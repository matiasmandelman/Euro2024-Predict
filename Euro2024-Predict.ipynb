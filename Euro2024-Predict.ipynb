{
 "cells": [
  {
   "cell_type": "code",
   "execution_count": 1,
   "id": "6f8f5fb8",
   "metadata": {},
   "outputs": [],
   "source": [
    "import numpy as np\n",
    "import pandas as pd"
   ]
  },
  {
   "cell_type": "code",
   "execution_count": 2,
   "id": "a11a4ac1",
   "metadata": {},
   "outputs": [],
   "source": [
    "df = pd.read_excel(\"ClasificacionEuro.xlsx\")\n",
    "rank = pd.read_excel(\"RankingFifa.xlsx\")\n"
   ]
  },
  {
   "cell_type": "code",
   "execution_count": 3,
   "id": "60ee69bd",
   "metadata": {},
   "outputs": [],
   "source": [
    "#### correct data types"
   ]
  },
  {
   "cell_type": "code",
   "execution_count": 4,
   "id": "e1593d3d",
   "metadata": {},
   "outputs": [
    {
     "data": {
      "text/html": [
       "<div>\n",
       "<style scoped>\n",
       "    .dataframe tbody tr th:only-of-type {\n",
       "        vertical-align: middle;\n",
       "    }\n",
       "\n",
       "    .dataframe tbody tr th {\n",
       "        vertical-align: top;\n",
       "    }\n",
       "\n",
       "    .dataframe thead th {\n",
       "        text-align: right;\n",
       "    }\n",
       "</style>\n",
       "<table border=\"1\" class=\"dataframe\">\n",
       "  <thead>\n",
       "    <tr style=\"text-align: right;\">\n",
       "      <th></th>\n",
       "      <th>Date</th>\n",
       "      <th>Country</th>\n",
       "      <th>home_team</th>\n",
       "      <th>home_score</th>\n",
       "      <th>away_score</th>\n",
       "      <th>away_team</th>\n",
       "    </tr>\n",
       "  </thead>\n",
       "  <tbody>\n",
       "    <tr>\n",
       "      <th>0</th>\n",
       "      <td>2023-03-25</td>\n",
       "      <td>Escocia</td>\n",
       "      <td>Escocia</td>\n",
       "      <td>3</td>\n",
       "      <td>0</td>\n",
       "      <td>Chipre</td>\n",
       "    </tr>\n",
       "    <tr>\n",
       "      <th>1</th>\n",
       "      <td>2023-03-25</td>\n",
       "      <td>España</td>\n",
       "      <td>España</td>\n",
       "      <td>3</td>\n",
       "      <td>0</td>\n",
       "      <td>Noruega</td>\n",
       "    </tr>\n",
       "    <tr>\n",
       "      <th>2</th>\n",
       "      <td>2023-03-28</td>\n",
       "      <td>Georgia</td>\n",
       "      <td>Georgia</td>\n",
       "      <td>1</td>\n",
       "      <td>1</td>\n",
       "      <td>Noruega</td>\n",
       "    </tr>\n",
       "    <tr>\n",
       "      <th>3</th>\n",
       "      <td>2023-03-28</td>\n",
       "      <td>Escocia</td>\n",
       "      <td>Escocia</td>\n",
       "      <td>2</td>\n",
       "      <td>0</td>\n",
       "      <td>España</td>\n",
       "    </tr>\n",
       "    <tr>\n",
       "      <th>4</th>\n",
       "      <td>2023-06-17</td>\n",
       "      <td>Noruega</td>\n",
       "      <td>Noruega</td>\n",
       "      <td>1</td>\n",
       "      <td>2</td>\n",
       "      <td>Escocia</td>\n",
       "    </tr>\n",
       "    <tr>\n",
       "      <th>...</th>\n",
       "      <td>...</td>\n",
       "      <td>...</td>\n",
       "      <td>...</td>\n",
       "      <td>...</td>\n",
       "      <td>...</td>\n",
       "      <td>...</td>\n",
       "    </tr>\n",
       "    <tr>\n",
       "      <th>239</th>\n",
       "      <td>2023-09-12</td>\n",
       "      <td>Alemania</td>\n",
       "      <td>Alemania</td>\n",
       "      <td>2</td>\n",
       "      <td>1</td>\n",
       "      <td>Francia</td>\n",
       "    </tr>\n",
       "    <tr>\n",
       "      <th>240</th>\n",
       "      <td>2023-10-14</td>\n",
       "      <td>Estados Unidos</td>\n",
       "      <td>Estados Unidos</td>\n",
       "      <td>3</td>\n",
       "      <td>1</td>\n",
       "      <td>Alemania</td>\n",
       "    </tr>\n",
       "    <tr>\n",
       "      <th>241</th>\n",
       "      <td>2023-10-18</td>\n",
       "      <td>México</td>\n",
       "      <td>México</td>\n",
       "      <td>2</td>\n",
       "      <td>2</td>\n",
       "      <td>Alemania</td>\n",
       "    </tr>\n",
       "    <tr>\n",
       "      <th>242</th>\n",
       "      <td>2023-11-18</td>\n",
       "      <td>Alemania</td>\n",
       "      <td>Alemania</td>\n",
       "      <td>2</td>\n",
       "      <td>3</td>\n",
       "      <td>Turquía</td>\n",
       "    </tr>\n",
       "    <tr>\n",
       "      <th>243</th>\n",
       "      <td>2023-11-21</td>\n",
       "      <td>Austria</td>\n",
       "      <td>Austria</td>\n",
       "      <td>0</td>\n",
       "      <td>2</td>\n",
       "      <td>Alemania</td>\n",
       "    </tr>\n",
       "  </tbody>\n",
       "</table>\n",
       "<p>244 rows × 6 columns</p>\n",
       "</div>"
      ],
      "text/plain": [
       "          Date         Country       home_team  home_score  away_score  \\\n",
       "0   2023-03-25         Escocia         Escocia           3           0   \n",
       "1   2023-03-25          España          España           3           0   \n",
       "2   2023-03-28         Georgia         Georgia           1           1   \n",
       "3   2023-03-28         Escocia         Escocia           2           0   \n",
       "4   2023-06-17         Noruega         Noruega           1           2   \n",
       "..         ...             ...             ...         ...         ...   \n",
       "239 2023-09-12        Alemania        Alemania           2           1   \n",
       "240 2023-10-14  Estados Unidos  Estados Unidos           3           1   \n",
       "241 2023-10-18          México          México           2           2   \n",
       "242 2023-11-18        Alemania        Alemania           2           3   \n",
       "243 2023-11-21         Austria         Austria           0           2   \n",
       "\n",
       "    away_team  \n",
       "0      Chipre  \n",
       "1     Noruega  \n",
       "2     Noruega  \n",
       "3      España  \n",
       "4     Escocia  \n",
       "..        ...  \n",
       "239   Francia  \n",
       "240  Alemania  \n",
       "241  Alemania  \n",
       "242   Turquía  \n",
       "243  Alemania  \n",
       "\n",
       "[244 rows x 6 columns]"
      ]
     },
     "execution_count": 4,
     "metadata": {},
     "output_type": "execute_result"
    }
   ],
   "source": [
    "df"
   ]
  },
  {
   "cell_type": "code",
   "execution_count": 5,
   "id": "72462863",
   "metadata": {},
   "outputs": [
    {
     "data": {
      "text/html": [
       "<div>\n",
       "<style scoped>\n",
       "    .dataframe tbody tr th:only-of-type {\n",
       "        vertical-align: middle;\n",
       "    }\n",
       "\n",
       "    .dataframe tbody tr th {\n",
       "        vertical-align: top;\n",
       "    }\n",
       "\n",
       "    .dataframe thead th {\n",
       "        text-align: right;\n",
       "    }\n",
       "</style>\n",
       "<table border=\"1\" class=\"dataframe\">\n",
       "  <thead>\n",
       "    <tr style=\"text-align: right;\">\n",
       "      <th></th>\n",
       "      <th>Ranking</th>\n",
       "      <th>País</th>\n",
       "      <th>Jugadores en la plantilla</th>\n",
       "      <th>edad</th>\n",
       "      <th>Valor total</th>\n",
       "      <th>Confederación</th>\n",
       "      <th>Puntos</th>\n",
       "    </tr>\n",
       "  </thead>\n",
       "  <tbody>\n",
       "    <tr>\n",
       "      <th>0</th>\n",
       "      <td>1</td>\n",
       "      <td>Argentina</td>\n",
       "      <td>29</td>\n",
       "      <td>28.0</td>\n",
       "      <td>865.70</td>\n",
       "      <td>CONMEBOL</td>\n",
       "      <td>1858</td>\n",
       "    </tr>\n",
       "    <tr>\n",
       "      <th>1</th>\n",
       "      <td>2</td>\n",
       "      <td>Francia</td>\n",
       "      <td>25</td>\n",
       "      <td>26.9</td>\n",
       "      <td>1200.00</td>\n",
       "      <td>UEFA</td>\n",
       "      <td>1841</td>\n",
       "    </tr>\n",
       "    <tr>\n",
       "      <th>2</th>\n",
       "      <td>4</td>\n",
       "      <td>Inglaterra</td>\n",
       "      <td>33</td>\n",
       "      <td>25.8</td>\n",
       "      <td>1700.00</td>\n",
       "      <td>UEFA</td>\n",
       "      <td>1795</td>\n",
       "    </tr>\n",
       "    <tr>\n",
       "      <th>3</th>\n",
       "      <td>3</td>\n",
       "      <td>Bélgica</td>\n",
       "      <td>25</td>\n",
       "      <td>26.9</td>\n",
       "      <td>591.00</td>\n",
       "      <td>UEFA</td>\n",
       "      <td>1795</td>\n",
       "    </tr>\n",
       "    <tr>\n",
       "      <th>4</th>\n",
       "      <td>5</td>\n",
       "      <td>Brasil</td>\n",
       "      <td>26</td>\n",
       "      <td>25.6</td>\n",
       "      <td>1200.00</td>\n",
       "      <td>CONMEBOL</td>\n",
       "      <td>1789</td>\n",
       "    </tr>\n",
       "    <tr>\n",
       "      <th>...</th>\n",
       "      <td>...</td>\n",
       "      <td>...</td>\n",
       "      <td>...</td>\n",
       "      <td>...</td>\n",
       "      <td>...</td>\n",
       "      <td>...</td>\n",
       "      <td>...</td>\n",
       "    </tr>\n",
       "    <tr>\n",
       "      <th>191</th>\n",
       "      <td>204</td>\n",
       "      <td>Sri Lanka</td>\n",
       "      <td>24</td>\n",
       "      <td>26.6</td>\n",
       "      <td>1.93</td>\n",
       "      <td>AFC</td>\n",
       "      <td>829</td>\n",
       "    </tr>\n",
       "    <tr>\n",
       "      <th>192</th>\n",
       "      <td>205</td>\n",
       "      <td>Guam</td>\n",
       "      <td>25</td>\n",
       "      <td>24.9</td>\n",
       "      <td>1.00</td>\n",
       "      <td>AFC</td>\n",
       "      <td>822</td>\n",
       "    </tr>\n",
       "    <tr>\n",
       "      <th>193</th>\n",
       "      <td>206</td>\n",
       "      <td>Turcas y Caicos</td>\n",
       "      <td>17</td>\n",
       "      <td>20.8</td>\n",
       "      <td>0.00</td>\n",
       "      <td>CONCACAF</td>\n",
       "      <td>817</td>\n",
       "    </tr>\n",
       "    <tr>\n",
       "      <th>194</th>\n",
       "      <td>208</td>\n",
       "      <td>Vírgenes A.</td>\n",
       "      <td>17</td>\n",
       "      <td>24.0</td>\n",
       "      <td>0.00</td>\n",
       "      <td>CONCACAF</td>\n",
       "      <td>797</td>\n",
       "    </tr>\n",
       "    <tr>\n",
       "      <th>195</th>\n",
       "      <td>210</td>\n",
       "      <td>San Marino</td>\n",
       "      <td>23</td>\n",
       "      <td>24.9</td>\n",
       "      <td>1.00</td>\n",
       "      <td>UEFA</td>\n",
       "      <td>742</td>\n",
       "    </tr>\n",
       "  </tbody>\n",
       "</table>\n",
       "<p>196 rows × 7 columns</p>\n",
       "</div>"
      ],
      "text/plain": [
       "    Ranking              País  Jugadores en la plantilla  edad  Valor total  \\\n",
       "0       1           Argentina                         29  28.0       865.70   \n",
       "1       2             Francia                         25  26.9      1200.00   \n",
       "2       4          Inglaterra                         33  25.8      1700.00   \n",
       "3       3             Bélgica                         25  26.9       591.00   \n",
       "4       5              Brasil                         26  25.6      1200.00   \n",
       "..      ...               ...                        ...   ...          ...   \n",
       "191   204           Sri Lanka                         24  26.6         1.93   \n",
       "192   205                Guam                         25  24.9         1.00   \n",
       "193   206     Turcas y Caicos                         17  20.8         0.00   \n",
       "194   208         Vírgenes A.                         17  24.0         0.00   \n",
       "195   210          San Marino                         23  24.9         1.00   \n",
       "\n",
       "    Confederación  Puntos  \n",
       "0        CONMEBOL    1858  \n",
       "1            UEFA    1841  \n",
       "2            UEFA    1795  \n",
       "3            UEFA    1795  \n",
       "4        CONMEBOL    1789  \n",
       "..            ...     ...  \n",
       "191           AFC     829  \n",
       "192           AFC     822  \n",
       "193      CONCACAF     817  \n",
       "194      CONCACAF     797  \n",
       "195          UEFA     742  \n",
       "\n",
       "[196 rows x 7 columns]"
      ]
     },
     "execution_count": 5,
     "metadata": {},
     "output_type": "execute_result"
    }
   ],
   "source": [
    "rank"
   ]
  },
  {
   "cell_type": "code",
   "execution_count": 6,
   "id": "d25061c8",
   "metadata": {},
   "outputs": [
    {
     "data": {
      "text/plain": [
       "0     2023-03-25\n",
       "1     2023-03-25\n",
       "2     2023-03-28\n",
       "3     2023-03-28\n",
       "4     2023-06-17\n",
       "         ...    \n",
       "239   2023-09-12\n",
       "240   2023-10-14\n",
       "241   2023-10-18\n",
       "242   2023-11-18\n",
       "243   2023-11-21\n",
       "Name: Date, Length: 244, dtype: datetime64[ns]"
      ]
     },
     "execution_count": 6,
     "metadata": {},
     "output_type": "execute_result"
    }
   ],
   "source": [
    "df['Date']\n"
   ]
  },
  {
   "cell_type": "code",
   "execution_count": 7,
   "id": "eea1fe35",
   "metadata": {},
   "outputs": [],
   "source": [
    "df['Date'] = pd.to_datetime(df['Date'])"
   ]
  },
  {
   "cell_type": "code",
   "execution_count": 8,
   "id": "199c4b7d",
   "metadata": {},
   "outputs": [],
   "source": [
    "relevant_info = [\"País\", \"Puntos\", \"Ranking\", \"Valor total\"]"
   ]
  },
  {
   "cell_type": "code",
   "execution_count": 9,
   "id": "262a5877",
   "metadata": {},
   "outputs": [
    {
     "name": "stdout",
     "output_type": "stream",
     "text": [
      "object\n",
      "object\n"
     ]
    }
   ],
   "source": [
    "print(df[\"home_team\"].dtype)\n",
    "print(rank[\"País\"].dtype)"
   ]
  },
  {
   "cell_type": "code",
   "execution_count": 10,
   "id": "d24693c0",
   "metadata": {},
   "outputs": [],
   "source": [
    "df[\"home_team\"] = df[\"home_team\"].astype(str)\n",
    "rank[\"País\"] = rank[\"País\"].astype(str)"
   ]
  },
  {
   "cell_type": "code",
   "execution_count": 11,
   "id": "b851a406",
   "metadata": {},
   "outputs": [],
   "source": [
    "rank[\"País\"] = rank[\"País\"].str.replace('\\xa0', '', regex=False)\n"
   ]
  },
  {
   "cell_type": "code",
   "execution_count": 12,
   "id": "b3dfd05c",
   "metadata": {},
   "outputs": [
    {
     "name": "stdout",
     "output_type": "stream",
     "text": [
      "['Argentina' 'Francia' 'Inglaterra' 'Bélgica' 'Brasil' 'Portugal'\n",
      " 'Países Bajos' 'España' 'Italia' 'Croacia' 'Estados Unidos' 'Colombia'\n",
      " 'Marruecos' 'México' 'Uruguay' 'Alemania' 'Senegal' 'Japón' 'Suiza'\n",
      " 'Irán' 'Dinamarca' 'Ucrania' 'Corea del Sur' 'Australia' 'Austria'\n",
      " 'Suecia' 'Hungría' 'Polonia' 'Gales' 'Nigeria' 'Ecuador' 'Perú' 'Serbia'\n",
      " 'Catar' 'Rusia' 'República Checa' 'Egipto' 'Costa de Marfil' 'Escocia'\n",
      " 'Turquía' 'Túnez' 'Chile' 'Argelia' 'Malí' 'Panamá' 'Noruega' 'Rumania'\n",
      " 'Eslovaquia' 'Canadá' 'Grecia' 'Camerún' 'Costa Rica' 'Arabia Saudita'\n",
      " 'Venezuela' 'Jamaica' 'Paraguay' 'Eslovenia' 'Irak' 'Sudáfrica' 'Irlanda'\n",
      " 'Finlandia' 'Burkina Faso' 'RD Congo' 'Uzbekistán' 'Cabo Verde' 'Albania'\n",
      " 'E. Á. U.' 'Ghana' 'Macedonia Norte' 'Montenegro' 'Jordania' 'Islandia'\n",
      " 'Irlanda Norte' 'Bosnia' 'Georgia' 'Guinea' 'Omán' 'Israel'\n",
      " 'Guinea Ecuat.' 'Baréin' 'El Salvador' 'Honduras' 'Bulgaria' 'Gabón'\n",
      " 'Bolivia' 'Zambia' 'Luxemburgo' 'China' 'Siria' 'Curazao' 'Haití'\n",
      " 'Uganda' 'Palestina' 'Angola' 'Armenia' 'Bielorrusia' 'Benín' 'Trinidad'\n",
      " 'Tayikistán' 'Kirguistán' 'Tailandia' 'Kosovo' 'Kazajistán'\n",
      " 'Nueva Zelanda' 'Mauritania' 'Namibia' 'Kenia' 'Guatemala' 'Madagascar'\n",
      " 'Mozambique' 'Congo' 'Azerbaiyán' 'Togo' 'Libia' 'Vietnam' 'Guinea-Bisáu'\n",
      " 'Comoras' 'Corea del Norte' 'Tanzania' 'Líbano' 'India' 'Zimbabue'\n",
      " 'Chipre' 'Estonia' 'Malaui' 'Sierra Leona' 'Sudán' 'Centroáfrica' 'Níger'\n",
      " 'Gambia' 'Ruanda' 'Islas Salomón' 'Indonesia' 'Islas Feroe' 'Nicaragua'\n",
      " 'Letonia' 'Lituania' 'Malasia' 'Kuwait' 'Burundi' 'Filipinas'\n",
      " 'Turkmenistán' 'Antigua y Barb.' 'Surinam' 'Botsuana' 'St. Kitts/Nevis'\n",
      " 'Esuatini' 'Rep. Dominicana' 'Afganistán' 'Liberia' 'Moldavia' 'Guyana'\n",
      " 'Singapur' 'Yemen' 'Hong Kong' 'China Taipéi' 'Puerto Rico' 'Maldivas'\n",
      " 'Andorra' 'Myanmar' 'Tahití' 'Santa Lucía' 'Sudán del Sur' 'Fiyi' 'Cuba'\n",
      " 'Bermudas' 'Malta' 'Vanuatu' 'San Vicente' 'Granada' 'Chad' 'Montserrat'\n",
      " 'Nepal' 'Camboya' 'Samoa' 'Belice' 'Mauricio' 'Bangladés' 'Bután' 'Macao'\n",
      " 'Santo Tomé y P.' 'Laos' 'Mongolia' 'Aruba' 'Brunéi' 'Pakistán' 'Somalia'\n",
      " 'Timor Oriental' 'Liechtenstein' 'Tonga' 'Gibraltar' 'Sri Lanka' 'Guam'\n",
      " 'Turcas y Caicos' 'Vírgenes A.' 'San Marino']\n"
     ]
    }
   ],
   "source": [
    "print(rank[\"País\"].unique())"
   ]
  },
  {
   "cell_type": "code",
   "execution_count": 13,
   "id": "d305b204",
   "metadata": {},
   "outputs": [],
   "source": [
    "df_euro=df.merge(rank[relevant_info], left_on = [\"home_team\"], right_on = [\"País\"]).drop(['País'], axis = 1)"
   ]
  },
  {
   "cell_type": "code",
   "execution_count": 14,
   "id": "f993e5fc",
   "metadata": {},
   "outputs": [
    {
     "data": {
      "text/html": [
       "<div>\n",
       "<style scoped>\n",
       "    .dataframe tbody tr th:only-of-type {\n",
       "        vertical-align: middle;\n",
       "    }\n",
       "\n",
       "    .dataframe tbody tr th {\n",
       "        vertical-align: top;\n",
       "    }\n",
       "\n",
       "    .dataframe thead th {\n",
       "        text-align: right;\n",
       "    }\n",
       "</style>\n",
       "<table border=\"1\" class=\"dataframe\">\n",
       "  <thead>\n",
       "    <tr style=\"text-align: right;\">\n",
       "      <th></th>\n",
       "      <th>Date</th>\n",
       "      <th>Country</th>\n",
       "      <th>home_team</th>\n",
       "      <th>home_score</th>\n",
       "      <th>away_score</th>\n",
       "      <th>away_team</th>\n",
       "      <th>Puntos</th>\n",
       "      <th>Ranking</th>\n",
       "      <th>Valor total</th>\n",
       "    </tr>\n",
       "  </thead>\n",
       "  <tbody>\n",
       "    <tr>\n",
       "      <th>0</th>\n",
       "      <td>2023-03-25</td>\n",
       "      <td>Escocia</td>\n",
       "      <td>Escocia</td>\n",
       "      <td>3</td>\n",
       "      <td>0</td>\n",
       "      <td>Chipre</td>\n",
       "      <td>1497</td>\n",
       "      <td>39</td>\n",
       "      <td>214.35</td>\n",
       "    </tr>\n",
       "    <tr>\n",
       "      <th>1</th>\n",
       "      <td>2023-03-28</td>\n",
       "      <td>Escocia</td>\n",
       "      <td>Escocia</td>\n",
       "      <td>2</td>\n",
       "      <td>0</td>\n",
       "      <td>España</td>\n",
       "      <td>1497</td>\n",
       "      <td>39</td>\n",
       "      <td>214.35</td>\n",
       "    </tr>\n",
       "    <tr>\n",
       "      <th>2</th>\n",
       "      <td>2023-06-20</td>\n",
       "      <td>Escocia</td>\n",
       "      <td>Escocia</td>\n",
       "      <td>2</td>\n",
       "      <td>0</td>\n",
       "      <td>Georgia</td>\n",
       "      <td>1497</td>\n",
       "      <td>39</td>\n",
       "      <td>214.35</td>\n",
       "    </tr>\n",
       "    <tr>\n",
       "      <th>3</th>\n",
       "      <td>2023-11-19</td>\n",
       "      <td>Escocia</td>\n",
       "      <td>Escocia</td>\n",
       "      <td>3</td>\n",
       "      <td>3</td>\n",
       "      <td>Noruega</td>\n",
       "      <td>1497</td>\n",
       "      <td>39</td>\n",
       "      <td>214.35</td>\n",
       "    </tr>\n",
       "    <tr>\n",
       "      <th>4</th>\n",
       "      <td>2023-03-25</td>\n",
       "      <td>España</td>\n",
       "      <td>España</td>\n",
       "      <td>3</td>\n",
       "      <td>0</td>\n",
       "      <td>Noruega</td>\n",
       "      <td>1728</td>\n",
       "      <td>8</td>\n",
       "      <td>1000.00</td>\n",
       "    </tr>\n",
       "    <tr>\n",
       "      <th>...</th>\n",
       "      <td>...</td>\n",
       "      <td>...</td>\n",
       "      <td>...</td>\n",
       "      <td>...</td>\n",
       "      <td>...</td>\n",
       "      <td>...</td>\n",
       "      <td>...</td>\n",
       "      <td>...</td>\n",
       "      <td>...</td>\n",
       "    </tr>\n",
       "    <tr>\n",
       "      <th>225</th>\n",
       "      <td>2023-09-09</td>\n",
       "      <td>Alemania</td>\n",
       "      <td>Alemania</td>\n",
       "      <td>1</td>\n",
       "      <td>4</td>\n",
       "      <td>Japón</td>\n",
       "      <td>1644</td>\n",
       "      <td>16</td>\n",
       "      <td>898.00</td>\n",
       "    </tr>\n",
       "    <tr>\n",
       "      <th>226</th>\n",
       "      <td>2023-09-12</td>\n",
       "      <td>Alemania</td>\n",
       "      <td>Alemania</td>\n",
       "      <td>2</td>\n",
       "      <td>1</td>\n",
       "      <td>Francia</td>\n",
       "      <td>1644</td>\n",
       "      <td>16</td>\n",
       "      <td>898.00</td>\n",
       "    </tr>\n",
       "    <tr>\n",
       "      <th>227</th>\n",
       "      <td>2023-11-18</td>\n",
       "      <td>Alemania</td>\n",
       "      <td>Alemania</td>\n",
       "      <td>2</td>\n",
       "      <td>3</td>\n",
       "      <td>Turquía</td>\n",
       "      <td>1644</td>\n",
       "      <td>16</td>\n",
       "      <td>898.00</td>\n",
       "    </tr>\n",
       "    <tr>\n",
       "      <th>228</th>\n",
       "      <td>2023-10-14</td>\n",
       "      <td>Estados Unidos</td>\n",
       "      <td>Estados Unidos</td>\n",
       "      <td>3</td>\n",
       "      <td>1</td>\n",
       "      <td>Alemania</td>\n",
       "      <td>1681</td>\n",
       "      <td>11</td>\n",
       "      <td>323.80</td>\n",
       "    </tr>\n",
       "    <tr>\n",
       "      <th>229</th>\n",
       "      <td>2023-10-18</td>\n",
       "      <td>México</td>\n",
       "      <td>México</td>\n",
       "      <td>2</td>\n",
       "      <td>2</td>\n",
       "      <td>Alemania</td>\n",
       "      <td>1661</td>\n",
       "      <td>14</td>\n",
       "      <td>208.30</td>\n",
       "    </tr>\n",
       "  </tbody>\n",
       "</table>\n",
       "<p>230 rows × 9 columns</p>\n",
       "</div>"
      ],
      "text/plain": [
       "          Date         Country       home_team  home_score  away_score  \\\n",
       "0   2023-03-25         Escocia         Escocia           3           0   \n",
       "1   2023-03-28         Escocia         Escocia           2           0   \n",
       "2   2023-06-20         Escocia         Escocia           2           0   \n",
       "3   2023-11-19         Escocia         Escocia           3           3   \n",
       "4   2023-03-25          España          España           3           0   \n",
       "..         ...             ...             ...         ...         ...   \n",
       "225 2023-09-09        Alemania        Alemania           1           4   \n",
       "226 2023-09-12        Alemania        Alemania           2           1   \n",
       "227 2023-11-18        Alemania        Alemania           2           3   \n",
       "228 2023-10-14  Estados Unidos  Estados Unidos           3           1   \n",
       "229 2023-10-18          México          México           2           2   \n",
       "\n",
       "    away_team  Puntos Ranking  Valor total  \n",
       "0      Chipre    1497    39         214.35  \n",
       "1      España    1497    39         214.35  \n",
       "2     Georgia    1497    39         214.35  \n",
       "3     Noruega    1497    39         214.35  \n",
       "4     Noruega    1728     8        1000.00  \n",
       "..        ...     ...     ...          ...  \n",
       "225     Japón    1644    16         898.00  \n",
       "226   Francia    1644    16         898.00  \n",
       "227   Turquía    1644    16         898.00  \n",
       "228  Alemania    1681    11         323.80  \n",
       "229  Alemania    1661    14         208.30  \n",
       "\n",
       "[230 rows x 9 columns]"
      ]
     },
     "execution_count": 14,
     "metadata": {},
     "output_type": "execute_result"
    }
   ],
   "source": [
    "df_euro"
   ]
  },
  {
   "cell_type": "code",
   "execution_count": 15,
   "id": "b4793a86",
   "metadata": {},
   "outputs": [
    {
     "data": {
      "text/html": [
       "<div>\n",
       "<style scoped>\n",
       "    .dataframe tbody tr th:only-of-type {\n",
       "        vertical-align: middle;\n",
       "    }\n",
       "\n",
       "    .dataframe tbody tr th {\n",
       "        vertical-align: top;\n",
       "    }\n",
       "\n",
       "    .dataframe thead th {\n",
       "        text-align: right;\n",
       "    }\n",
       "</style>\n",
       "<table border=\"1\" class=\"dataframe\">\n",
       "  <thead>\n",
       "    <tr style=\"text-align: right;\">\n",
       "      <th></th>\n",
       "      <th>Date</th>\n",
       "      <th>Country</th>\n",
       "      <th>home_team</th>\n",
       "      <th>home_score</th>\n",
       "      <th>away_score</th>\n",
       "      <th>away_team</th>\n",
       "      <th>Puntos_home</th>\n",
       "      <th>Ranking_home</th>\n",
       "      <th>Valor total_home</th>\n",
       "      <th>Puntos_away</th>\n",
       "      <th>Ranking_away</th>\n",
       "      <th>Valor total_away</th>\n",
       "    </tr>\n",
       "  </thead>\n",
       "  <tbody>\n",
       "    <tr>\n",
       "      <th>0</th>\n",
       "      <td>2023-03-25</td>\n",
       "      <td>Escocia</td>\n",
       "      <td>Escocia</td>\n",
       "      <td>3</td>\n",
       "      <td>0</td>\n",
       "      <td>Chipre</td>\n",
       "      <td>1497</td>\n",
       "      <td>39</td>\n",
       "      <td>214.35</td>\n",
       "      <td>1141</td>\n",
       "      <td>124</td>\n",
       "      <td>17.65</td>\n",
       "    </tr>\n",
       "    <tr>\n",
       "      <th>1</th>\n",
       "      <td>2023-09-12</td>\n",
       "      <td>España</td>\n",
       "      <td>España</td>\n",
       "      <td>6</td>\n",
       "      <td>0</td>\n",
       "      <td>Chipre</td>\n",
       "      <td>1728</td>\n",
       "      <td>8</td>\n",
       "      <td>1000.00</td>\n",
       "      <td>1141</td>\n",
       "      <td>124</td>\n",
       "      <td>17.65</td>\n",
       "    </tr>\n",
       "    <tr>\n",
       "      <th>2</th>\n",
       "      <td>2023-10-15</td>\n",
       "      <td>Georgia</td>\n",
       "      <td>Georgia</td>\n",
       "      <td>4</td>\n",
       "      <td>0</td>\n",
       "      <td>Chipre</td>\n",
       "      <td>1334</td>\n",
       "      <td>75</td>\n",
       "      <td>153.40</td>\n",
       "      <td>1141</td>\n",
       "      <td>124</td>\n",
       "      <td>17.65</td>\n",
       "    </tr>\n",
       "    <tr>\n",
       "      <th>3</th>\n",
       "      <td>2023-06-20</td>\n",
       "      <td>Noruega</td>\n",
       "      <td>Noruega</td>\n",
       "      <td>3</td>\n",
       "      <td>1</td>\n",
       "      <td>Chipre</td>\n",
       "      <td>1468</td>\n",
       "      <td>47</td>\n",
       "      <td>491.40</td>\n",
       "      <td>1141</td>\n",
       "      <td>124</td>\n",
       "      <td>17.65</td>\n",
       "    </tr>\n",
       "    <tr>\n",
       "      <th>4</th>\n",
       "      <td>2023-03-28</td>\n",
       "      <td>Escocia</td>\n",
       "      <td>Escocia</td>\n",
       "      <td>2</td>\n",
       "      <td>0</td>\n",
       "      <td>España</td>\n",
       "      <td>1497</td>\n",
       "      <td>39</td>\n",
       "      <td>214.35</td>\n",
       "      <td>1728</td>\n",
       "      <td>8</td>\n",
       "      <td>1000.00</td>\n",
       "    </tr>\n",
       "    <tr>\n",
       "      <th>...</th>\n",
       "      <td>...</td>\n",
       "      <td>...</td>\n",
       "      <td>...</td>\n",
       "      <td>...</td>\n",
       "      <td>...</td>\n",
       "      <td>...</td>\n",
       "      <td>...</td>\n",
       "      <td>...</td>\n",
       "      <td>...</td>\n",
       "      <td>...</td>\n",
       "      <td>...</td>\n",
       "      <td>...</td>\n",
       "    </tr>\n",
       "    <tr>\n",
       "      <th>210</th>\n",
       "      <td>2023-03-26</td>\n",
       "      <td>Luxemburgo</td>\n",
       "      <td>Luxemburgo</td>\n",
       "      <td>0</td>\n",
       "      <td>6</td>\n",
       "      <td>Portugal</td>\n",
       "      <td>1278</td>\n",
       "      <td>87</td>\n",
       "      <td>14.83</td>\n",
       "      <td>1748</td>\n",
       "      <td>6</td>\n",
       "      <td>1000.00</td>\n",
       "    </tr>\n",
       "    <tr>\n",
       "      <th>211</th>\n",
       "      <td>2023-06-20</td>\n",
       "      <td>Islandia</td>\n",
       "      <td>Islandia</td>\n",
       "      <td>0</td>\n",
       "      <td>1</td>\n",
       "      <td>Portugal</td>\n",
       "      <td>1347</td>\n",
       "      <td>72</td>\n",
       "      <td>70.75</td>\n",
       "      <td>1748</td>\n",
       "      <td>6</td>\n",
       "      <td>1000.00</td>\n",
       "    </tr>\n",
       "    <tr>\n",
       "      <th>212</th>\n",
       "      <td>2023-03-25</td>\n",
       "      <td>Alemania</td>\n",
       "      <td>Alemania</td>\n",
       "      <td>2</td>\n",
       "      <td>0</td>\n",
       "      <td>Perú</td>\n",
       "      <td>1644</td>\n",
       "      <td>16</td>\n",
       "      <td>898.00</td>\n",
       "      <td>1516</td>\n",
       "      <td>32</td>\n",
       "      <td>30.65</td>\n",
       "    </tr>\n",
       "    <tr>\n",
       "      <th>213</th>\n",
       "      <td>2023-06-20</td>\n",
       "      <td>Alemania</td>\n",
       "      <td>Alemania</td>\n",
       "      <td>0</td>\n",
       "      <td>2</td>\n",
       "      <td>Colombia</td>\n",
       "      <td>1644</td>\n",
       "      <td>16</td>\n",
       "      <td>898.00</td>\n",
       "      <td>1664</td>\n",
       "      <td>12</td>\n",
       "      <td>278.60</td>\n",
       "    </tr>\n",
       "    <tr>\n",
       "      <th>214</th>\n",
       "      <td>2023-09-09</td>\n",
       "      <td>Alemania</td>\n",
       "      <td>Alemania</td>\n",
       "      <td>1</td>\n",
       "      <td>4</td>\n",
       "      <td>Japón</td>\n",
       "      <td>1644</td>\n",
       "      <td>16</td>\n",
       "      <td>898.00</td>\n",
       "      <td>1622</td>\n",
       "      <td>18</td>\n",
       "      <td>231.40</td>\n",
       "    </tr>\n",
       "  </tbody>\n",
       "</table>\n",
       "<p>215 rows × 12 columns</p>\n",
       "</div>"
      ],
      "text/plain": [
       "          Date     Country   home_team  home_score  away_score away_team  \\\n",
       "0   2023-03-25     Escocia     Escocia           3           0    Chipre   \n",
       "1   2023-09-12      España      España           6           0    Chipre   \n",
       "2   2023-10-15     Georgia     Georgia           4           0    Chipre   \n",
       "3   2023-06-20     Noruega     Noruega           3           1    Chipre   \n",
       "4   2023-03-28     Escocia     Escocia           2           0    España   \n",
       "..         ...         ...         ...         ...         ...       ...   \n",
       "210 2023-03-26  Luxemburgo  Luxemburgo           0           6  Portugal   \n",
       "211 2023-06-20    Islandia    Islandia           0           1  Portugal   \n",
       "212 2023-03-25    Alemania    Alemania           2           0      Perú   \n",
       "213 2023-06-20    Alemania    Alemania           0           2  Colombia   \n",
       "214 2023-09-09    Alemania    Alemania           1           4     Japón   \n",
       "\n",
       "     Puntos_home Ranking_home  Valor total_home  Puntos_away Ranking_away  \\\n",
       "0           1497         39              214.35         1141        124     \n",
       "1           1728          8             1000.00         1141        124     \n",
       "2           1334         75              153.40         1141        124     \n",
       "3           1468         47              491.40         1141        124     \n",
       "4           1497         39              214.35         1728          8     \n",
       "..           ...          ...               ...          ...          ...   \n",
       "210         1278         87               14.83         1748          6     \n",
       "211         1347         72               70.75         1748          6     \n",
       "212         1644         16              898.00         1516         32     \n",
       "213         1644         16              898.00         1664         12     \n",
       "214         1644         16              898.00         1622         18     \n",
       "\n",
       "     Valor total_away  \n",
       "0               17.65  \n",
       "1               17.65  \n",
       "2               17.65  \n",
       "3               17.65  \n",
       "4             1000.00  \n",
       "..                ...  \n",
       "210           1000.00  \n",
       "211           1000.00  \n",
       "212             30.65  \n",
       "213            278.60  \n",
       "214            231.40  \n",
       "\n",
       "[215 rows x 12 columns]"
      ]
     },
     "execution_count": 15,
     "metadata": {},
     "output_type": "execute_result"
    }
   ],
   "source": [
    "df_euro.merge(rank[relevant_info], left_on = [\"away_team\"], right_on = [\"País\"],suffixes = ('_home', '_away')).drop(['País'], axis = 1)"
   ]
  },
  {
   "cell_type": "code",
   "execution_count": 16,
   "id": "ca963c7f",
   "metadata": {},
   "outputs": [],
   "source": [
    "df_euro= df_euro.merge(rank[relevant_info], left_on = [\"away_team\"], right_on = [\"País\"],suffixes = ('_home', '_away')).drop(['País'], axis = 1)"
   ]
  },
  {
   "cell_type": "code",
   "execution_count": 17,
   "id": "9478e1de",
   "metadata": {},
   "outputs": [],
   "source": [
    "## Target Definition"
   ]
  },
  {
   "cell_type": "code",
   "execution_count": 18,
   "id": "16d27e78",
   "metadata": {},
   "outputs": [],
   "source": [
    "df_euro[\"home_score\"] = df_euro[\"home_score\"].astype(int)"
   ]
  },
  {
   "cell_type": "code",
   "execution_count": 19,
   "id": "fd6648ab",
   "metadata": {},
   "outputs": [],
   "source": [
    "df_euro[\"away_score\"] = df_euro[\"away_score\"].astype(int)"
   ]
  },
  {
   "cell_type": "code",
   "execution_count": 20,
   "id": "5a6e6457",
   "metadata": {},
   "outputs": [],
   "source": [
    "df_euro.loc[df_euro['home_score'] > df_euro['away_score'], 'target'] = 1\n",
    "df_euro.loc[df_euro['home_score'] == df_euro['away_score'], 'target'] = 2\n",
    "df_euro.loc[df_euro['home_score'] < df_euro['away_score'], 'target'] = 3"
   ]
  },
  {
   "cell_type": "code",
   "execution_count": 21,
   "id": "8dfe203d",
   "metadata": {},
   "outputs": [],
   "source": [
    "## Feature engineering"
   ]
  },
  {
   "cell_type": "code",
   "execution_count": 22,
   "id": "5757bc88",
   "metadata": {},
   "outputs": [],
   "source": [
    "df_euro['Ranking_home'] = df_euro['Ranking_home'].astype(int)\n"
   ]
  },
  {
   "cell_type": "code",
   "execution_count": 23,
   "id": "b383a9da",
   "metadata": {},
   "outputs": [],
   "source": [
    "df_euro['Ranking_away'] = df_euro['Ranking_away'].astype(int)\n"
   ]
  },
  {
   "cell_type": "code",
   "execution_count": 24,
   "id": "dcbedaa8",
   "metadata": {},
   "outputs": [],
   "source": [
    "#rank difference\n",
    "df_euro['rank_dif'] = df_euro ['Ranking_home'] - df_euro['Ranking_away']"
   ]
  },
  {
   "cell_type": "code",
   "execution_count": 25,
   "id": "8af7ce54",
   "metadata": {},
   "outputs": [
    {
     "data": {
      "text/html": [
       "<div>\n",
       "<style scoped>\n",
       "    .dataframe tbody tr th:only-of-type {\n",
       "        vertical-align: middle;\n",
       "    }\n",
       "\n",
       "    .dataframe tbody tr th {\n",
       "        vertical-align: top;\n",
       "    }\n",
       "\n",
       "    .dataframe thead th {\n",
       "        text-align: right;\n",
       "    }\n",
       "</style>\n",
       "<table border=\"1\" class=\"dataframe\">\n",
       "  <thead>\n",
       "    <tr style=\"text-align: right;\">\n",
       "      <th></th>\n",
       "      <th>Date</th>\n",
       "      <th>Country</th>\n",
       "      <th>home_team</th>\n",
       "      <th>home_score</th>\n",
       "      <th>away_score</th>\n",
       "      <th>away_team</th>\n",
       "      <th>Puntos_home</th>\n",
       "      <th>Ranking_home</th>\n",
       "      <th>Valor total_home</th>\n",
       "      <th>Puntos_away</th>\n",
       "      <th>Ranking_away</th>\n",
       "      <th>Valor total_away</th>\n",
       "      <th>target</th>\n",
       "      <th>rank_dif</th>\n",
       "    </tr>\n",
       "  </thead>\n",
       "  <tbody>\n",
       "    <tr>\n",
       "      <th>0</th>\n",
       "      <td>2023-03-25</td>\n",
       "      <td>Escocia</td>\n",
       "      <td>Escocia</td>\n",
       "      <td>3</td>\n",
       "      <td>0</td>\n",
       "      <td>Chipre</td>\n",
       "      <td>1497</td>\n",
       "      <td>39</td>\n",
       "      <td>214.35</td>\n",
       "      <td>1141</td>\n",
       "      <td>124</td>\n",
       "      <td>17.65</td>\n",
       "      <td>1.0</td>\n",
       "      <td>-85</td>\n",
       "    </tr>\n",
       "    <tr>\n",
       "      <th>1</th>\n",
       "      <td>2023-09-12</td>\n",
       "      <td>España</td>\n",
       "      <td>España</td>\n",
       "      <td>6</td>\n",
       "      <td>0</td>\n",
       "      <td>Chipre</td>\n",
       "      <td>1728</td>\n",
       "      <td>8</td>\n",
       "      <td>1000.00</td>\n",
       "      <td>1141</td>\n",
       "      <td>124</td>\n",
       "      <td>17.65</td>\n",
       "      <td>1.0</td>\n",
       "      <td>-116</td>\n",
       "    </tr>\n",
       "    <tr>\n",
       "      <th>2</th>\n",
       "      <td>2023-10-15</td>\n",
       "      <td>Georgia</td>\n",
       "      <td>Georgia</td>\n",
       "      <td>4</td>\n",
       "      <td>0</td>\n",
       "      <td>Chipre</td>\n",
       "      <td>1334</td>\n",
       "      <td>75</td>\n",
       "      <td>153.40</td>\n",
       "      <td>1141</td>\n",
       "      <td>124</td>\n",
       "      <td>17.65</td>\n",
       "      <td>1.0</td>\n",
       "      <td>-49</td>\n",
       "    </tr>\n",
       "    <tr>\n",
       "      <th>3</th>\n",
       "      <td>2023-06-20</td>\n",
       "      <td>Noruega</td>\n",
       "      <td>Noruega</td>\n",
       "      <td>3</td>\n",
       "      <td>1</td>\n",
       "      <td>Chipre</td>\n",
       "      <td>1468</td>\n",
       "      <td>47</td>\n",
       "      <td>491.40</td>\n",
       "      <td>1141</td>\n",
       "      <td>124</td>\n",
       "      <td>17.65</td>\n",
       "      <td>1.0</td>\n",
       "      <td>-77</td>\n",
       "    </tr>\n",
       "    <tr>\n",
       "      <th>4</th>\n",
       "      <td>2023-03-28</td>\n",
       "      <td>Escocia</td>\n",
       "      <td>Escocia</td>\n",
       "      <td>2</td>\n",
       "      <td>0</td>\n",
       "      <td>España</td>\n",
       "      <td>1497</td>\n",
       "      <td>39</td>\n",
       "      <td>214.35</td>\n",
       "      <td>1728</td>\n",
       "      <td>8</td>\n",
       "      <td>1000.00</td>\n",
       "      <td>1.0</td>\n",
       "      <td>31</td>\n",
       "    </tr>\n",
       "    <tr>\n",
       "      <th>...</th>\n",
       "      <td>...</td>\n",
       "      <td>...</td>\n",
       "      <td>...</td>\n",
       "      <td>...</td>\n",
       "      <td>...</td>\n",
       "      <td>...</td>\n",
       "      <td>...</td>\n",
       "      <td>...</td>\n",
       "      <td>...</td>\n",
       "      <td>...</td>\n",
       "      <td>...</td>\n",
       "      <td>...</td>\n",
       "      <td>...</td>\n",
       "      <td>...</td>\n",
       "    </tr>\n",
       "    <tr>\n",
       "      <th>210</th>\n",
       "      <td>2023-03-26</td>\n",
       "      <td>Luxemburgo</td>\n",
       "      <td>Luxemburgo</td>\n",
       "      <td>0</td>\n",
       "      <td>6</td>\n",
       "      <td>Portugal</td>\n",
       "      <td>1278</td>\n",
       "      <td>87</td>\n",
       "      <td>14.83</td>\n",
       "      <td>1748</td>\n",
       "      <td>6</td>\n",
       "      <td>1000.00</td>\n",
       "      <td>3.0</td>\n",
       "      <td>81</td>\n",
       "    </tr>\n",
       "    <tr>\n",
       "      <th>211</th>\n",
       "      <td>2023-06-20</td>\n",
       "      <td>Islandia</td>\n",
       "      <td>Islandia</td>\n",
       "      <td>0</td>\n",
       "      <td>1</td>\n",
       "      <td>Portugal</td>\n",
       "      <td>1347</td>\n",
       "      <td>72</td>\n",
       "      <td>70.75</td>\n",
       "      <td>1748</td>\n",
       "      <td>6</td>\n",
       "      <td>1000.00</td>\n",
       "      <td>3.0</td>\n",
       "      <td>66</td>\n",
       "    </tr>\n",
       "    <tr>\n",
       "      <th>212</th>\n",
       "      <td>2023-03-25</td>\n",
       "      <td>Alemania</td>\n",
       "      <td>Alemania</td>\n",
       "      <td>2</td>\n",
       "      <td>0</td>\n",
       "      <td>Perú</td>\n",
       "      <td>1644</td>\n",
       "      <td>16</td>\n",
       "      <td>898.00</td>\n",
       "      <td>1516</td>\n",
       "      <td>32</td>\n",
       "      <td>30.65</td>\n",
       "      <td>1.0</td>\n",
       "      <td>-16</td>\n",
       "    </tr>\n",
       "    <tr>\n",
       "      <th>213</th>\n",
       "      <td>2023-06-20</td>\n",
       "      <td>Alemania</td>\n",
       "      <td>Alemania</td>\n",
       "      <td>0</td>\n",
       "      <td>2</td>\n",
       "      <td>Colombia</td>\n",
       "      <td>1644</td>\n",
       "      <td>16</td>\n",
       "      <td>898.00</td>\n",
       "      <td>1664</td>\n",
       "      <td>12</td>\n",
       "      <td>278.60</td>\n",
       "      <td>3.0</td>\n",
       "      <td>4</td>\n",
       "    </tr>\n",
       "    <tr>\n",
       "      <th>214</th>\n",
       "      <td>2023-09-09</td>\n",
       "      <td>Alemania</td>\n",
       "      <td>Alemania</td>\n",
       "      <td>1</td>\n",
       "      <td>4</td>\n",
       "      <td>Japón</td>\n",
       "      <td>1644</td>\n",
       "      <td>16</td>\n",
       "      <td>898.00</td>\n",
       "      <td>1622</td>\n",
       "      <td>18</td>\n",
       "      <td>231.40</td>\n",
       "      <td>3.0</td>\n",
       "      <td>-2</td>\n",
       "    </tr>\n",
       "  </tbody>\n",
       "</table>\n",
       "<p>215 rows × 14 columns</p>\n",
       "</div>"
      ],
      "text/plain": [
       "          Date     Country   home_team  home_score  away_score away_team  \\\n",
       "0   2023-03-25     Escocia     Escocia           3           0    Chipre   \n",
       "1   2023-09-12      España      España           6           0    Chipre   \n",
       "2   2023-10-15     Georgia     Georgia           4           0    Chipre   \n",
       "3   2023-06-20     Noruega     Noruega           3           1    Chipre   \n",
       "4   2023-03-28     Escocia     Escocia           2           0    España   \n",
       "..         ...         ...         ...         ...         ...       ...   \n",
       "210 2023-03-26  Luxemburgo  Luxemburgo           0           6  Portugal   \n",
       "211 2023-06-20    Islandia    Islandia           0           1  Portugal   \n",
       "212 2023-03-25    Alemania    Alemania           2           0      Perú   \n",
       "213 2023-06-20    Alemania    Alemania           0           2  Colombia   \n",
       "214 2023-09-09    Alemania    Alemania           1           4     Japón   \n",
       "\n",
       "     Puntos_home  Ranking_home  Valor total_home  Puntos_away  Ranking_away  \\\n",
       "0           1497            39            214.35         1141           124   \n",
       "1           1728             8           1000.00         1141           124   \n",
       "2           1334            75            153.40         1141           124   \n",
       "3           1468            47            491.40         1141           124   \n",
       "4           1497            39            214.35         1728             8   \n",
       "..           ...           ...               ...          ...           ...   \n",
       "210         1278            87             14.83         1748             6   \n",
       "211         1347            72             70.75         1748             6   \n",
       "212         1644            16            898.00         1516            32   \n",
       "213         1644            16            898.00         1664            12   \n",
       "214         1644            16            898.00         1622            18   \n",
       "\n",
       "     Valor total_away  target  rank_dif  \n",
       "0               17.65     1.0       -85  \n",
       "1               17.65     1.0      -116  \n",
       "2               17.65     1.0       -49  \n",
       "3               17.65     1.0       -77  \n",
       "4             1000.00     1.0        31  \n",
       "..                ...     ...       ...  \n",
       "210           1000.00     3.0        81  \n",
       "211           1000.00     3.0        66  \n",
       "212             30.65     1.0       -16  \n",
       "213            278.60     3.0         4  \n",
       "214            231.40     3.0        -2  \n",
       "\n",
       "[215 rows x 14 columns]"
      ]
     },
     "execution_count": 25,
     "metadata": {},
     "output_type": "execute_result"
    }
   ],
   "source": [
    "df_euro"
   ]
  },
  {
   "cell_type": "code",
   "execution_count": 26,
   "id": "41b0f573",
   "metadata": {},
   "outputs": [],
   "source": [
    "# racha de goles\n",
    "\n",
    "##df_euro.sort_values(['home_team', 'Date'], inplace = True)"
   ]
  },
  {
   "cell_type": "code",
   "execution_count": 27,
   "id": "921ccd50",
   "metadata": {},
   "outputs": [],
   "source": [
    "##df_euro ['racha_home_1'] = df_euro.groupby(['home_team'])['home_score'].shift(1)"
   ]
  },
  {
   "cell_type": "code",
   "execution_count": 28,
   "id": "42c1847a",
   "metadata": {},
   "outputs": [],
   "source": [
    "##Final clean up"
   ]
  },
  {
   "cell_type": "code",
   "execution_count": 29,
   "id": "c26f5d2c",
   "metadata": {},
   "outputs": [
    {
     "data": {
      "text/plain": [
       "Index(['Date', 'Country', 'home_team', 'home_score', 'away_score', 'away_team',\n",
       "       'Puntos_home', 'Ranking_home', 'Valor total_home', 'Puntos_away',\n",
       "       'Ranking_away', 'Valor total_away', 'target', 'rank_dif'],\n",
       "      dtype='object')"
      ]
     },
     "execution_count": 29,
     "metadata": {},
     "output_type": "execute_result"
    }
   ],
   "source": [
    "df_euro.columns"
   ]
  },
  {
   "cell_type": "code",
   "execution_count": 30,
   "id": "72bd5d26",
   "metadata": {},
   "outputs": [],
   "source": [
    "variables_finales = ['home_team', 'away_team', 'Puntos_home', 'Ranking_home', 'Valor total_home', 'Puntos_away',\n",
    "       'Ranking_away', 'Valor total_away', 'target', 'rank_dif',\n",
    "       ]"
   ]
  },
  {
   "cell_type": "code",
   "execution_count": 31,
   "id": "1de34dee",
   "metadata": {},
   "outputs": [],
   "source": [
    "df_final= df_euro [variables_finales]"
   ]
  },
  {
   "cell_type": "code",
   "execution_count": 32,
   "id": "fdec9fa8",
   "metadata": {},
   "outputs": [
    {
     "data": {
      "text/html": [
       "<div>\n",
       "<style scoped>\n",
       "    .dataframe tbody tr th:only-of-type {\n",
       "        vertical-align: middle;\n",
       "    }\n",
       "\n",
       "    .dataframe tbody tr th {\n",
       "        vertical-align: top;\n",
       "    }\n",
       "\n",
       "    .dataframe thead th {\n",
       "        text-align: right;\n",
       "    }\n",
       "</style>\n",
       "<table border=\"1\" class=\"dataframe\">\n",
       "  <thead>\n",
       "    <tr style=\"text-align: right;\">\n",
       "      <th></th>\n",
       "      <th>home_team</th>\n",
       "      <th>away_team</th>\n",
       "      <th>Puntos_home</th>\n",
       "      <th>Ranking_home</th>\n",
       "      <th>Valor total_home</th>\n",
       "      <th>Puntos_away</th>\n",
       "      <th>Ranking_away</th>\n",
       "      <th>Valor total_away</th>\n",
       "      <th>target</th>\n",
       "      <th>rank_dif</th>\n",
       "    </tr>\n",
       "  </thead>\n",
       "  <tbody>\n",
       "    <tr>\n",
       "      <th>0</th>\n",
       "      <td>Escocia</td>\n",
       "      <td>Chipre</td>\n",
       "      <td>1497</td>\n",
       "      <td>39</td>\n",
       "      <td>214.35</td>\n",
       "      <td>1141</td>\n",
       "      <td>124</td>\n",
       "      <td>17.65</td>\n",
       "      <td>1.0</td>\n",
       "      <td>-85</td>\n",
       "    </tr>\n",
       "    <tr>\n",
       "      <th>1</th>\n",
       "      <td>España</td>\n",
       "      <td>Chipre</td>\n",
       "      <td>1728</td>\n",
       "      <td>8</td>\n",
       "      <td>1000.00</td>\n",
       "      <td>1141</td>\n",
       "      <td>124</td>\n",
       "      <td>17.65</td>\n",
       "      <td>1.0</td>\n",
       "      <td>-116</td>\n",
       "    </tr>\n",
       "    <tr>\n",
       "      <th>2</th>\n",
       "      <td>Georgia</td>\n",
       "      <td>Chipre</td>\n",
       "      <td>1334</td>\n",
       "      <td>75</td>\n",
       "      <td>153.40</td>\n",
       "      <td>1141</td>\n",
       "      <td>124</td>\n",
       "      <td>17.65</td>\n",
       "      <td>1.0</td>\n",
       "      <td>-49</td>\n",
       "    </tr>\n",
       "    <tr>\n",
       "      <th>3</th>\n",
       "      <td>Noruega</td>\n",
       "      <td>Chipre</td>\n",
       "      <td>1468</td>\n",
       "      <td>47</td>\n",
       "      <td>491.40</td>\n",
       "      <td>1141</td>\n",
       "      <td>124</td>\n",
       "      <td>17.65</td>\n",
       "      <td>1.0</td>\n",
       "      <td>-77</td>\n",
       "    </tr>\n",
       "    <tr>\n",
       "      <th>4</th>\n",
       "      <td>Escocia</td>\n",
       "      <td>España</td>\n",
       "      <td>1497</td>\n",
       "      <td>39</td>\n",
       "      <td>214.35</td>\n",
       "      <td>1728</td>\n",
       "      <td>8</td>\n",
       "      <td>1000.00</td>\n",
       "      <td>1.0</td>\n",
       "      <td>31</td>\n",
       "    </tr>\n",
       "    <tr>\n",
       "      <th>...</th>\n",
       "      <td>...</td>\n",
       "      <td>...</td>\n",
       "      <td>...</td>\n",
       "      <td>...</td>\n",
       "      <td>...</td>\n",
       "      <td>...</td>\n",
       "      <td>...</td>\n",
       "      <td>...</td>\n",
       "      <td>...</td>\n",
       "      <td>...</td>\n",
       "    </tr>\n",
       "    <tr>\n",
       "      <th>210</th>\n",
       "      <td>Luxemburgo</td>\n",
       "      <td>Portugal</td>\n",
       "      <td>1278</td>\n",
       "      <td>87</td>\n",
       "      <td>14.83</td>\n",
       "      <td>1748</td>\n",
       "      <td>6</td>\n",
       "      <td>1000.00</td>\n",
       "      <td>3.0</td>\n",
       "      <td>81</td>\n",
       "    </tr>\n",
       "    <tr>\n",
       "      <th>211</th>\n",
       "      <td>Islandia</td>\n",
       "      <td>Portugal</td>\n",
       "      <td>1347</td>\n",
       "      <td>72</td>\n",
       "      <td>70.75</td>\n",
       "      <td>1748</td>\n",
       "      <td>6</td>\n",
       "      <td>1000.00</td>\n",
       "      <td>3.0</td>\n",
       "      <td>66</td>\n",
       "    </tr>\n",
       "    <tr>\n",
       "      <th>212</th>\n",
       "      <td>Alemania</td>\n",
       "      <td>Perú</td>\n",
       "      <td>1644</td>\n",
       "      <td>16</td>\n",
       "      <td>898.00</td>\n",
       "      <td>1516</td>\n",
       "      <td>32</td>\n",
       "      <td>30.65</td>\n",
       "      <td>1.0</td>\n",
       "      <td>-16</td>\n",
       "    </tr>\n",
       "    <tr>\n",
       "      <th>213</th>\n",
       "      <td>Alemania</td>\n",
       "      <td>Colombia</td>\n",
       "      <td>1644</td>\n",
       "      <td>16</td>\n",
       "      <td>898.00</td>\n",
       "      <td>1664</td>\n",
       "      <td>12</td>\n",
       "      <td>278.60</td>\n",
       "      <td>3.0</td>\n",
       "      <td>4</td>\n",
       "    </tr>\n",
       "    <tr>\n",
       "      <th>214</th>\n",
       "      <td>Alemania</td>\n",
       "      <td>Japón</td>\n",
       "      <td>1644</td>\n",
       "      <td>16</td>\n",
       "      <td>898.00</td>\n",
       "      <td>1622</td>\n",
       "      <td>18</td>\n",
       "      <td>231.40</td>\n",
       "      <td>3.0</td>\n",
       "      <td>-2</td>\n",
       "    </tr>\n",
       "  </tbody>\n",
       "</table>\n",
       "<p>215 rows × 10 columns</p>\n",
       "</div>"
      ],
      "text/plain": [
       "      home_team away_team  Puntos_home  Ranking_home  Valor total_home  \\\n",
       "0       Escocia    Chipre         1497            39            214.35   \n",
       "1        España    Chipre         1728             8           1000.00   \n",
       "2       Georgia    Chipre         1334            75            153.40   \n",
       "3       Noruega    Chipre         1468            47            491.40   \n",
       "4       Escocia    España         1497            39            214.35   \n",
       "..          ...       ...          ...           ...               ...   \n",
       "210  Luxemburgo  Portugal         1278            87             14.83   \n",
       "211    Islandia  Portugal         1347            72             70.75   \n",
       "212    Alemania      Perú         1644            16            898.00   \n",
       "213    Alemania  Colombia         1644            16            898.00   \n",
       "214    Alemania     Japón         1644            16            898.00   \n",
       "\n",
       "     Puntos_away  Ranking_away  Valor total_away  target  rank_dif  \n",
       "0           1141           124             17.65     1.0       -85  \n",
       "1           1141           124             17.65     1.0      -116  \n",
       "2           1141           124             17.65     1.0       -49  \n",
       "3           1141           124             17.65     1.0       -77  \n",
       "4           1728             8           1000.00     1.0        31  \n",
       "..           ...           ...               ...     ...       ...  \n",
       "210         1748             6           1000.00     3.0        81  \n",
       "211         1748             6           1000.00     3.0        66  \n",
       "212         1516            32             30.65     1.0       -16  \n",
       "213         1664            12            278.60     3.0         4  \n",
       "214         1622            18            231.40     3.0        -2  \n",
       "\n",
       "[215 rows x 10 columns]"
      ]
     },
     "execution_count": 32,
     "metadata": {},
     "output_type": "execute_result"
    }
   ],
   "source": [
    "df_final"
   ]
  },
  {
   "cell_type": "code",
   "execution_count": 33,
   "id": "fbfecab2",
   "metadata": {},
   "outputs": [],
   "source": [
    "df_enconde_home = pd.get_dummies(df_final['home_team'], prefix = '_home')"
   ]
  },
  {
   "cell_type": "code",
   "execution_count": 34,
   "id": "a2c1e292",
   "metadata": {},
   "outputs": [],
   "source": [
    "df_enconde_away = pd.get_dummies(df_final['away_team'], prefix = '_away')"
   ]
  },
  {
   "cell_type": "code",
   "execution_count": 35,
   "id": "01faa528",
   "metadata": {},
   "outputs": [],
   "source": [
    "df_final= pd.concat([df_final,df_enconde_home], axis = 1)"
   ]
  },
  {
   "cell_type": "code",
   "execution_count": 36,
   "id": "614adf0c",
   "metadata": {},
   "outputs": [],
   "source": [
    "df_final= pd.concat([df_final,df_enconde_away], axis = 1)"
   ]
  },
  {
   "cell_type": "code",
   "execution_count": 37,
   "id": "b8ed71c1",
   "metadata": {
    "scrolled": true
   },
   "outputs": [
    {
     "data": {
      "text/html": [
       "<div>\n",
       "<style scoped>\n",
       "    .dataframe tbody tr th:only-of-type {\n",
       "        vertical-align: middle;\n",
       "    }\n",
       "\n",
       "    .dataframe tbody tr th {\n",
       "        vertical-align: top;\n",
       "    }\n",
       "\n",
       "    .dataframe thead th {\n",
       "        text-align: right;\n",
       "    }\n",
       "</style>\n",
       "<table border=\"1\" class=\"dataframe\">\n",
       "  <thead>\n",
       "    <tr style=\"text-align: right;\">\n",
       "      <th></th>\n",
       "      <th>home_team</th>\n",
       "      <th>away_team</th>\n",
       "      <th>Puntos_home</th>\n",
       "      <th>Ranking_home</th>\n",
       "      <th>Valor total_home</th>\n",
       "      <th>Puntos_away</th>\n",
       "      <th>Ranking_away</th>\n",
       "      <th>Valor total_away</th>\n",
       "      <th>target</th>\n",
       "      <th>rank_dif</th>\n",
       "      <th>...</th>\n",
       "      <th>_away_Polonia</th>\n",
       "      <th>_away_Portugal</th>\n",
       "      <th>_away_República Checa</th>\n",
       "      <th>_away_Rumania</th>\n",
       "      <th>_away_San Marino</th>\n",
       "      <th>_away_Serbia</th>\n",
       "      <th>_away_Suecia</th>\n",
       "      <th>_away_Suiza</th>\n",
       "      <th>_away_Turquía</th>\n",
       "      <th>_away_Ucrania</th>\n",
       "    </tr>\n",
       "  </thead>\n",
       "  <tbody>\n",
       "    <tr>\n",
       "      <th>0</th>\n",
       "      <td>Escocia</td>\n",
       "      <td>Chipre</td>\n",
       "      <td>1497</td>\n",
       "      <td>39</td>\n",
       "      <td>214.35</td>\n",
       "      <td>1141</td>\n",
       "      <td>124</td>\n",
       "      <td>17.65</td>\n",
       "      <td>1.0</td>\n",
       "      <td>-85</td>\n",
       "      <td>...</td>\n",
       "      <td>0</td>\n",
       "      <td>0</td>\n",
       "      <td>0</td>\n",
       "      <td>0</td>\n",
       "      <td>0</td>\n",
       "      <td>0</td>\n",
       "      <td>0</td>\n",
       "      <td>0</td>\n",
       "      <td>0</td>\n",
       "      <td>0</td>\n",
       "    </tr>\n",
       "    <tr>\n",
       "      <th>1</th>\n",
       "      <td>España</td>\n",
       "      <td>Chipre</td>\n",
       "      <td>1728</td>\n",
       "      <td>8</td>\n",
       "      <td>1000.00</td>\n",
       "      <td>1141</td>\n",
       "      <td>124</td>\n",
       "      <td>17.65</td>\n",
       "      <td>1.0</td>\n",
       "      <td>-116</td>\n",
       "      <td>...</td>\n",
       "      <td>0</td>\n",
       "      <td>0</td>\n",
       "      <td>0</td>\n",
       "      <td>0</td>\n",
       "      <td>0</td>\n",
       "      <td>0</td>\n",
       "      <td>0</td>\n",
       "      <td>0</td>\n",
       "      <td>0</td>\n",
       "      <td>0</td>\n",
       "    </tr>\n",
       "    <tr>\n",
       "      <th>2</th>\n",
       "      <td>Georgia</td>\n",
       "      <td>Chipre</td>\n",
       "      <td>1334</td>\n",
       "      <td>75</td>\n",
       "      <td>153.40</td>\n",
       "      <td>1141</td>\n",
       "      <td>124</td>\n",
       "      <td>17.65</td>\n",
       "      <td>1.0</td>\n",
       "      <td>-49</td>\n",
       "      <td>...</td>\n",
       "      <td>0</td>\n",
       "      <td>0</td>\n",
       "      <td>0</td>\n",
       "      <td>0</td>\n",
       "      <td>0</td>\n",
       "      <td>0</td>\n",
       "      <td>0</td>\n",
       "      <td>0</td>\n",
       "      <td>0</td>\n",
       "      <td>0</td>\n",
       "    </tr>\n",
       "    <tr>\n",
       "      <th>3</th>\n",
       "      <td>Noruega</td>\n",
       "      <td>Chipre</td>\n",
       "      <td>1468</td>\n",
       "      <td>47</td>\n",
       "      <td>491.40</td>\n",
       "      <td>1141</td>\n",
       "      <td>124</td>\n",
       "      <td>17.65</td>\n",
       "      <td>1.0</td>\n",
       "      <td>-77</td>\n",
       "      <td>...</td>\n",
       "      <td>0</td>\n",
       "      <td>0</td>\n",
       "      <td>0</td>\n",
       "      <td>0</td>\n",
       "      <td>0</td>\n",
       "      <td>0</td>\n",
       "      <td>0</td>\n",
       "      <td>0</td>\n",
       "      <td>0</td>\n",
       "      <td>0</td>\n",
       "    </tr>\n",
       "    <tr>\n",
       "      <th>4</th>\n",
       "      <td>Escocia</td>\n",
       "      <td>España</td>\n",
       "      <td>1497</td>\n",
       "      <td>39</td>\n",
       "      <td>214.35</td>\n",
       "      <td>1728</td>\n",
       "      <td>8</td>\n",
       "      <td>1000.00</td>\n",
       "      <td>1.0</td>\n",
       "      <td>31</td>\n",
       "      <td>...</td>\n",
       "      <td>0</td>\n",
       "      <td>0</td>\n",
       "      <td>0</td>\n",
       "      <td>0</td>\n",
       "      <td>0</td>\n",
       "      <td>0</td>\n",
       "      <td>0</td>\n",
       "      <td>0</td>\n",
       "      <td>0</td>\n",
       "      <td>0</td>\n",
       "    </tr>\n",
       "    <tr>\n",
       "      <th>...</th>\n",
       "      <td>...</td>\n",
       "      <td>...</td>\n",
       "      <td>...</td>\n",
       "      <td>...</td>\n",
       "      <td>...</td>\n",
       "      <td>...</td>\n",
       "      <td>...</td>\n",
       "      <td>...</td>\n",
       "      <td>...</td>\n",
       "      <td>...</td>\n",
       "      <td>...</td>\n",
       "      <td>...</td>\n",
       "      <td>...</td>\n",
       "      <td>...</td>\n",
       "      <td>...</td>\n",
       "      <td>...</td>\n",
       "      <td>...</td>\n",
       "      <td>...</td>\n",
       "      <td>...</td>\n",
       "      <td>...</td>\n",
       "      <td>...</td>\n",
       "    </tr>\n",
       "    <tr>\n",
       "      <th>210</th>\n",
       "      <td>Luxemburgo</td>\n",
       "      <td>Portugal</td>\n",
       "      <td>1278</td>\n",
       "      <td>87</td>\n",
       "      <td>14.83</td>\n",
       "      <td>1748</td>\n",
       "      <td>6</td>\n",
       "      <td>1000.00</td>\n",
       "      <td>3.0</td>\n",
       "      <td>81</td>\n",
       "      <td>...</td>\n",
       "      <td>0</td>\n",
       "      <td>1</td>\n",
       "      <td>0</td>\n",
       "      <td>0</td>\n",
       "      <td>0</td>\n",
       "      <td>0</td>\n",
       "      <td>0</td>\n",
       "      <td>0</td>\n",
       "      <td>0</td>\n",
       "      <td>0</td>\n",
       "    </tr>\n",
       "    <tr>\n",
       "      <th>211</th>\n",
       "      <td>Islandia</td>\n",
       "      <td>Portugal</td>\n",
       "      <td>1347</td>\n",
       "      <td>72</td>\n",
       "      <td>70.75</td>\n",
       "      <td>1748</td>\n",
       "      <td>6</td>\n",
       "      <td>1000.00</td>\n",
       "      <td>3.0</td>\n",
       "      <td>66</td>\n",
       "      <td>...</td>\n",
       "      <td>0</td>\n",
       "      <td>1</td>\n",
       "      <td>0</td>\n",
       "      <td>0</td>\n",
       "      <td>0</td>\n",
       "      <td>0</td>\n",
       "      <td>0</td>\n",
       "      <td>0</td>\n",
       "      <td>0</td>\n",
       "      <td>0</td>\n",
       "    </tr>\n",
       "    <tr>\n",
       "      <th>212</th>\n",
       "      <td>Alemania</td>\n",
       "      <td>Perú</td>\n",
       "      <td>1644</td>\n",
       "      <td>16</td>\n",
       "      <td>898.00</td>\n",
       "      <td>1516</td>\n",
       "      <td>32</td>\n",
       "      <td>30.65</td>\n",
       "      <td>1.0</td>\n",
       "      <td>-16</td>\n",
       "      <td>...</td>\n",
       "      <td>0</td>\n",
       "      <td>0</td>\n",
       "      <td>0</td>\n",
       "      <td>0</td>\n",
       "      <td>0</td>\n",
       "      <td>0</td>\n",
       "      <td>0</td>\n",
       "      <td>0</td>\n",
       "      <td>0</td>\n",
       "      <td>0</td>\n",
       "    </tr>\n",
       "    <tr>\n",
       "      <th>213</th>\n",
       "      <td>Alemania</td>\n",
       "      <td>Colombia</td>\n",
       "      <td>1644</td>\n",
       "      <td>16</td>\n",
       "      <td>898.00</td>\n",
       "      <td>1664</td>\n",
       "      <td>12</td>\n",
       "      <td>278.60</td>\n",
       "      <td>3.0</td>\n",
       "      <td>4</td>\n",
       "      <td>...</td>\n",
       "      <td>0</td>\n",
       "      <td>0</td>\n",
       "      <td>0</td>\n",
       "      <td>0</td>\n",
       "      <td>0</td>\n",
       "      <td>0</td>\n",
       "      <td>0</td>\n",
       "      <td>0</td>\n",
       "      <td>0</td>\n",
       "      <td>0</td>\n",
       "    </tr>\n",
       "    <tr>\n",
       "      <th>214</th>\n",
       "      <td>Alemania</td>\n",
       "      <td>Japón</td>\n",
       "      <td>1644</td>\n",
       "      <td>16</td>\n",
       "      <td>898.00</td>\n",
       "      <td>1622</td>\n",
       "      <td>18</td>\n",
       "      <td>231.40</td>\n",
       "      <td>3.0</td>\n",
       "      <td>-2</td>\n",
       "      <td>...</td>\n",
       "      <td>0</td>\n",
       "      <td>0</td>\n",
       "      <td>0</td>\n",
       "      <td>0</td>\n",
       "      <td>0</td>\n",
       "      <td>0</td>\n",
       "      <td>0</td>\n",
       "      <td>0</td>\n",
       "      <td>0</td>\n",
       "      <td>0</td>\n",
       "    </tr>\n",
       "  </tbody>\n",
       "</table>\n",
       "<p>215 rows × 117 columns</p>\n",
       "</div>"
      ],
      "text/plain": [
       "      home_team away_team  Puntos_home  Ranking_home  Valor total_home  \\\n",
       "0       Escocia    Chipre         1497            39            214.35   \n",
       "1        España    Chipre         1728             8           1000.00   \n",
       "2       Georgia    Chipre         1334            75            153.40   \n",
       "3       Noruega    Chipre         1468            47            491.40   \n",
       "4       Escocia    España         1497            39            214.35   \n",
       "..          ...       ...          ...           ...               ...   \n",
       "210  Luxemburgo  Portugal         1278            87             14.83   \n",
       "211    Islandia  Portugal         1347            72             70.75   \n",
       "212    Alemania      Perú         1644            16            898.00   \n",
       "213    Alemania  Colombia         1644            16            898.00   \n",
       "214    Alemania     Japón         1644            16            898.00   \n",
       "\n",
       "     Puntos_away  Ranking_away  Valor total_away  target  rank_dif  ...  \\\n",
       "0           1141           124             17.65     1.0       -85  ...   \n",
       "1           1141           124             17.65     1.0      -116  ...   \n",
       "2           1141           124             17.65     1.0       -49  ...   \n",
       "3           1141           124             17.65     1.0       -77  ...   \n",
       "4           1728             8           1000.00     1.0        31  ...   \n",
       "..           ...           ...               ...     ...       ...  ...   \n",
       "210         1748             6           1000.00     3.0        81  ...   \n",
       "211         1748             6           1000.00     3.0        66  ...   \n",
       "212         1516            32             30.65     1.0       -16  ...   \n",
       "213         1664            12            278.60     3.0         4  ...   \n",
       "214         1622            18            231.40     3.0        -2  ...   \n",
       "\n",
       "     _away_Polonia  _away_Portugal  _away_República Checa  _away_Rumania  \\\n",
       "0                0               0                      0              0   \n",
       "1                0               0                      0              0   \n",
       "2                0               0                      0              0   \n",
       "3                0               0                      0              0   \n",
       "4                0               0                      0              0   \n",
       "..             ...             ...                    ...            ...   \n",
       "210              0               1                      0              0   \n",
       "211              0               1                      0              0   \n",
       "212              0               0                      0              0   \n",
       "213              0               0                      0              0   \n",
       "214              0               0                      0              0   \n",
       "\n",
       "     _away_San Marino  _away_Serbia  _away_Suecia  _away_Suiza  _away_Turquía  \\\n",
       "0                   0             0             0            0              0   \n",
       "1                   0             0             0            0              0   \n",
       "2                   0             0             0            0              0   \n",
       "3                   0             0             0            0              0   \n",
       "4                   0             0             0            0              0   \n",
       "..                ...           ...           ...          ...            ...   \n",
       "210                 0             0             0            0              0   \n",
       "211                 0             0             0            0              0   \n",
       "212                 0             0             0            0              0   \n",
       "213                 0             0             0            0              0   \n",
       "214                 0             0             0            0              0   \n",
       "\n",
       "     _away_Ucrania  \n",
       "0                0  \n",
       "1                0  \n",
       "2                0  \n",
       "3                0  \n",
       "4                0  \n",
       "..             ...  \n",
       "210              0  \n",
       "211              0  \n",
       "212              0  \n",
       "213              0  \n",
       "214              0  \n",
       "\n",
       "[215 rows x 117 columns]"
      ]
     },
     "execution_count": 37,
     "metadata": {},
     "output_type": "execute_result"
    }
   ],
   "source": [
    "df_final"
   ]
  },
  {
   "cell_type": "code",
   "execution_count": 38,
   "id": "fff52394",
   "metadata": {},
   "outputs": [],
   "source": [
    "df_final.drop(['home_team', 'away_team'], axis = 1, inplace = True)"
   ]
  },
  {
   "cell_type": "code",
   "execution_count": 39,
   "id": "73d53009",
   "metadata": {},
   "outputs": [
    {
     "data": {
      "text/html": [
       "<div>\n",
       "<style scoped>\n",
       "    .dataframe tbody tr th:only-of-type {\n",
       "        vertical-align: middle;\n",
       "    }\n",
       "\n",
       "    .dataframe tbody tr th {\n",
       "        vertical-align: top;\n",
       "    }\n",
       "\n",
       "    .dataframe thead th {\n",
       "        text-align: right;\n",
       "    }\n",
       "</style>\n",
       "<table border=\"1\" class=\"dataframe\">\n",
       "  <thead>\n",
       "    <tr style=\"text-align: right;\">\n",
       "      <th></th>\n",
       "      <th>Puntos_home</th>\n",
       "      <th>Ranking_home</th>\n",
       "      <th>Valor total_home</th>\n",
       "      <th>Puntos_away</th>\n",
       "      <th>Ranking_away</th>\n",
       "      <th>Valor total_away</th>\n",
       "      <th>target</th>\n",
       "      <th>rank_dif</th>\n",
       "      <th>_home_Albania</th>\n",
       "      <th>_home_Alemania</th>\n",
       "      <th>...</th>\n",
       "      <th>_away_Polonia</th>\n",
       "      <th>_away_Portugal</th>\n",
       "      <th>_away_República Checa</th>\n",
       "      <th>_away_Rumania</th>\n",
       "      <th>_away_San Marino</th>\n",
       "      <th>_away_Serbia</th>\n",
       "      <th>_away_Suecia</th>\n",
       "      <th>_away_Suiza</th>\n",
       "      <th>_away_Turquía</th>\n",
       "      <th>_away_Ucrania</th>\n",
       "    </tr>\n",
       "  </thead>\n",
       "  <tbody>\n",
       "    <tr>\n",
       "      <th>0</th>\n",
       "      <td>1497</td>\n",
       "      <td>39</td>\n",
       "      <td>214.35</td>\n",
       "      <td>1141</td>\n",
       "      <td>124</td>\n",
       "      <td>17.65</td>\n",
       "      <td>1.0</td>\n",
       "      <td>-85</td>\n",
       "      <td>0</td>\n",
       "      <td>0</td>\n",
       "      <td>...</td>\n",
       "      <td>0</td>\n",
       "      <td>0</td>\n",
       "      <td>0</td>\n",
       "      <td>0</td>\n",
       "      <td>0</td>\n",
       "      <td>0</td>\n",
       "      <td>0</td>\n",
       "      <td>0</td>\n",
       "      <td>0</td>\n",
       "      <td>0</td>\n",
       "    </tr>\n",
       "    <tr>\n",
       "      <th>1</th>\n",
       "      <td>1728</td>\n",
       "      <td>8</td>\n",
       "      <td>1000.00</td>\n",
       "      <td>1141</td>\n",
       "      <td>124</td>\n",
       "      <td>17.65</td>\n",
       "      <td>1.0</td>\n",
       "      <td>-116</td>\n",
       "      <td>0</td>\n",
       "      <td>0</td>\n",
       "      <td>...</td>\n",
       "      <td>0</td>\n",
       "      <td>0</td>\n",
       "      <td>0</td>\n",
       "      <td>0</td>\n",
       "      <td>0</td>\n",
       "      <td>0</td>\n",
       "      <td>0</td>\n",
       "      <td>0</td>\n",
       "      <td>0</td>\n",
       "      <td>0</td>\n",
       "    </tr>\n",
       "    <tr>\n",
       "      <th>2</th>\n",
       "      <td>1334</td>\n",
       "      <td>75</td>\n",
       "      <td>153.40</td>\n",
       "      <td>1141</td>\n",
       "      <td>124</td>\n",
       "      <td>17.65</td>\n",
       "      <td>1.0</td>\n",
       "      <td>-49</td>\n",
       "      <td>0</td>\n",
       "      <td>0</td>\n",
       "      <td>...</td>\n",
       "      <td>0</td>\n",
       "      <td>0</td>\n",
       "      <td>0</td>\n",
       "      <td>0</td>\n",
       "      <td>0</td>\n",
       "      <td>0</td>\n",
       "      <td>0</td>\n",
       "      <td>0</td>\n",
       "      <td>0</td>\n",
       "      <td>0</td>\n",
       "    </tr>\n",
       "    <tr>\n",
       "      <th>3</th>\n",
       "      <td>1468</td>\n",
       "      <td>47</td>\n",
       "      <td>491.40</td>\n",
       "      <td>1141</td>\n",
       "      <td>124</td>\n",
       "      <td>17.65</td>\n",
       "      <td>1.0</td>\n",
       "      <td>-77</td>\n",
       "      <td>0</td>\n",
       "      <td>0</td>\n",
       "      <td>...</td>\n",
       "      <td>0</td>\n",
       "      <td>0</td>\n",
       "      <td>0</td>\n",
       "      <td>0</td>\n",
       "      <td>0</td>\n",
       "      <td>0</td>\n",
       "      <td>0</td>\n",
       "      <td>0</td>\n",
       "      <td>0</td>\n",
       "      <td>0</td>\n",
       "    </tr>\n",
       "    <tr>\n",
       "      <th>4</th>\n",
       "      <td>1497</td>\n",
       "      <td>39</td>\n",
       "      <td>214.35</td>\n",
       "      <td>1728</td>\n",
       "      <td>8</td>\n",
       "      <td>1000.00</td>\n",
       "      <td>1.0</td>\n",
       "      <td>31</td>\n",
       "      <td>0</td>\n",
       "      <td>0</td>\n",
       "      <td>...</td>\n",
       "      <td>0</td>\n",
       "      <td>0</td>\n",
       "      <td>0</td>\n",
       "      <td>0</td>\n",
       "      <td>0</td>\n",
       "      <td>0</td>\n",
       "      <td>0</td>\n",
       "      <td>0</td>\n",
       "      <td>0</td>\n",
       "      <td>0</td>\n",
       "    </tr>\n",
       "    <tr>\n",
       "      <th>...</th>\n",
       "      <td>...</td>\n",
       "      <td>...</td>\n",
       "      <td>...</td>\n",
       "      <td>...</td>\n",
       "      <td>...</td>\n",
       "      <td>...</td>\n",
       "      <td>...</td>\n",
       "      <td>...</td>\n",
       "      <td>...</td>\n",
       "      <td>...</td>\n",
       "      <td>...</td>\n",
       "      <td>...</td>\n",
       "      <td>...</td>\n",
       "      <td>...</td>\n",
       "      <td>...</td>\n",
       "      <td>...</td>\n",
       "      <td>...</td>\n",
       "      <td>...</td>\n",
       "      <td>...</td>\n",
       "      <td>...</td>\n",
       "      <td>...</td>\n",
       "    </tr>\n",
       "    <tr>\n",
       "      <th>210</th>\n",
       "      <td>1278</td>\n",
       "      <td>87</td>\n",
       "      <td>14.83</td>\n",
       "      <td>1748</td>\n",
       "      <td>6</td>\n",
       "      <td>1000.00</td>\n",
       "      <td>3.0</td>\n",
       "      <td>81</td>\n",
       "      <td>0</td>\n",
       "      <td>0</td>\n",
       "      <td>...</td>\n",
       "      <td>0</td>\n",
       "      <td>1</td>\n",
       "      <td>0</td>\n",
       "      <td>0</td>\n",
       "      <td>0</td>\n",
       "      <td>0</td>\n",
       "      <td>0</td>\n",
       "      <td>0</td>\n",
       "      <td>0</td>\n",
       "      <td>0</td>\n",
       "    </tr>\n",
       "    <tr>\n",
       "      <th>211</th>\n",
       "      <td>1347</td>\n",
       "      <td>72</td>\n",
       "      <td>70.75</td>\n",
       "      <td>1748</td>\n",
       "      <td>6</td>\n",
       "      <td>1000.00</td>\n",
       "      <td>3.0</td>\n",
       "      <td>66</td>\n",
       "      <td>0</td>\n",
       "      <td>0</td>\n",
       "      <td>...</td>\n",
       "      <td>0</td>\n",
       "      <td>1</td>\n",
       "      <td>0</td>\n",
       "      <td>0</td>\n",
       "      <td>0</td>\n",
       "      <td>0</td>\n",
       "      <td>0</td>\n",
       "      <td>0</td>\n",
       "      <td>0</td>\n",
       "      <td>0</td>\n",
       "    </tr>\n",
       "    <tr>\n",
       "      <th>212</th>\n",
       "      <td>1644</td>\n",
       "      <td>16</td>\n",
       "      <td>898.00</td>\n",
       "      <td>1516</td>\n",
       "      <td>32</td>\n",
       "      <td>30.65</td>\n",
       "      <td>1.0</td>\n",
       "      <td>-16</td>\n",
       "      <td>0</td>\n",
       "      <td>1</td>\n",
       "      <td>...</td>\n",
       "      <td>0</td>\n",
       "      <td>0</td>\n",
       "      <td>0</td>\n",
       "      <td>0</td>\n",
       "      <td>0</td>\n",
       "      <td>0</td>\n",
       "      <td>0</td>\n",
       "      <td>0</td>\n",
       "      <td>0</td>\n",
       "      <td>0</td>\n",
       "    </tr>\n",
       "    <tr>\n",
       "      <th>213</th>\n",
       "      <td>1644</td>\n",
       "      <td>16</td>\n",
       "      <td>898.00</td>\n",
       "      <td>1664</td>\n",
       "      <td>12</td>\n",
       "      <td>278.60</td>\n",
       "      <td>3.0</td>\n",
       "      <td>4</td>\n",
       "      <td>0</td>\n",
       "      <td>1</td>\n",
       "      <td>...</td>\n",
       "      <td>0</td>\n",
       "      <td>0</td>\n",
       "      <td>0</td>\n",
       "      <td>0</td>\n",
       "      <td>0</td>\n",
       "      <td>0</td>\n",
       "      <td>0</td>\n",
       "      <td>0</td>\n",
       "      <td>0</td>\n",
       "      <td>0</td>\n",
       "    </tr>\n",
       "    <tr>\n",
       "      <th>214</th>\n",
       "      <td>1644</td>\n",
       "      <td>16</td>\n",
       "      <td>898.00</td>\n",
       "      <td>1622</td>\n",
       "      <td>18</td>\n",
       "      <td>231.40</td>\n",
       "      <td>3.0</td>\n",
       "      <td>-2</td>\n",
       "      <td>0</td>\n",
       "      <td>1</td>\n",
       "      <td>...</td>\n",
       "      <td>0</td>\n",
       "      <td>0</td>\n",
       "      <td>0</td>\n",
       "      <td>0</td>\n",
       "      <td>0</td>\n",
       "      <td>0</td>\n",
       "      <td>0</td>\n",
       "      <td>0</td>\n",
       "      <td>0</td>\n",
       "      <td>0</td>\n",
       "    </tr>\n",
       "  </tbody>\n",
       "</table>\n",
       "<p>215 rows × 115 columns</p>\n",
       "</div>"
      ],
      "text/plain": [
       "     Puntos_home  Ranking_home  Valor total_home  Puntos_away  Ranking_away  \\\n",
       "0           1497            39            214.35         1141           124   \n",
       "1           1728             8           1000.00         1141           124   \n",
       "2           1334            75            153.40         1141           124   \n",
       "3           1468            47            491.40         1141           124   \n",
       "4           1497            39            214.35         1728             8   \n",
       "..           ...           ...               ...          ...           ...   \n",
       "210         1278            87             14.83         1748             6   \n",
       "211         1347            72             70.75         1748             6   \n",
       "212         1644            16            898.00         1516            32   \n",
       "213         1644            16            898.00         1664            12   \n",
       "214         1644            16            898.00         1622            18   \n",
       "\n",
       "     Valor total_away  target  rank_dif  _home_Albania  _home_Alemania  ...  \\\n",
       "0               17.65     1.0       -85              0               0  ...   \n",
       "1               17.65     1.0      -116              0               0  ...   \n",
       "2               17.65     1.0       -49              0               0  ...   \n",
       "3               17.65     1.0       -77              0               0  ...   \n",
       "4             1000.00     1.0        31              0               0  ...   \n",
       "..                ...     ...       ...            ...             ...  ...   \n",
       "210           1000.00     3.0        81              0               0  ...   \n",
       "211           1000.00     3.0        66              0               0  ...   \n",
       "212             30.65     1.0       -16              0               1  ...   \n",
       "213            278.60     3.0         4              0               1  ...   \n",
       "214            231.40     3.0        -2              0               1  ...   \n",
       "\n",
       "     _away_Polonia  _away_Portugal  _away_República Checa  _away_Rumania  \\\n",
       "0                0               0                      0              0   \n",
       "1                0               0                      0              0   \n",
       "2                0               0                      0              0   \n",
       "3                0               0                      0              0   \n",
       "4                0               0                      0              0   \n",
       "..             ...             ...                    ...            ...   \n",
       "210              0               1                      0              0   \n",
       "211              0               1                      0              0   \n",
       "212              0               0                      0              0   \n",
       "213              0               0                      0              0   \n",
       "214              0               0                      0              0   \n",
       "\n",
       "     _away_San Marino  _away_Serbia  _away_Suecia  _away_Suiza  _away_Turquía  \\\n",
       "0                   0             0             0            0              0   \n",
       "1                   0             0             0            0              0   \n",
       "2                   0             0             0            0              0   \n",
       "3                   0             0             0            0              0   \n",
       "4                   0             0             0            0              0   \n",
       "..                ...           ...           ...          ...            ...   \n",
       "210                 0             0             0            0              0   \n",
       "211                 0             0             0            0              0   \n",
       "212                 0             0             0            0              0   \n",
       "213                 0             0             0            0              0   \n",
       "214                 0             0             0            0              0   \n",
       "\n",
       "     _away_Ucrania  \n",
       "0                0  \n",
       "1                0  \n",
       "2                0  \n",
       "3                0  \n",
       "4                0  \n",
       "..             ...  \n",
       "210              0  \n",
       "211              0  \n",
       "212              0  \n",
       "213              0  \n",
       "214              0  \n",
       "\n",
       "[215 rows x 115 columns]"
      ]
     },
     "execution_count": 39,
     "metadata": {},
     "output_type": "execute_result"
    }
   ],
   "source": [
    "df_final"
   ]
  },
  {
   "cell_type": "code",
   "execution_count": null,
   "id": "105bc304",
   "metadata": {},
   "outputs": [],
   "source": []
  },
  {
   "cell_type": "code",
   "execution_count": 40,
   "id": "b62a92db",
   "metadata": {},
   "outputs": [],
   "source": [
    "df_final.dropna(inplace=True)"
   ]
  },
  {
   "cell_type": "code",
   "execution_count": 41,
   "id": "2f4575d9",
   "metadata": {},
   "outputs": [],
   "source": [
    "### Modelizacion"
   ]
  },
  {
   "cell_type": "code",
   "execution_count": 42,
   "id": "414a71c3",
   "metadata": {},
   "outputs": [],
   "source": [
    "y = df_final[['target']]"
   ]
  },
  {
   "cell_type": "code",
   "execution_count": 43,
   "id": "f3d7f32e",
   "metadata": {},
   "outputs": [
    {
     "data": {
      "text/html": [
       "<div>\n",
       "<style scoped>\n",
       "    .dataframe tbody tr th:only-of-type {\n",
       "        vertical-align: middle;\n",
       "    }\n",
       "\n",
       "    .dataframe tbody tr th {\n",
       "        vertical-align: top;\n",
       "    }\n",
       "\n",
       "    .dataframe thead th {\n",
       "        text-align: right;\n",
       "    }\n",
       "</style>\n",
       "<table border=\"1\" class=\"dataframe\">\n",
       "  <thead>\n",
       "    <tr style=\"text-align: right;\">\n",
       "      <th></th>\n",
       "      <th>target</th>\n",
       "    </tr>\n",
       "  </thead>\n",
       "  <tbody>\n",
       "    <tr>\n",
       "      <th>0</th>\n",
       "      <td>1.0</td>\n",
       "    </tr>\n",
       "    <tr>\n",
       "      <th>1</th>\n",
       "      <td>1.0</td>\n",
       "    </tr>\n",
       "    <tr>\n",
       "      <th>2</th>\n",
       "      <td>1.0</td>\n",
       "    </tr>\n",
       "    <tr>\n",
       "      <th>3</th>\n",
       "      <td>1.0</td>\n",
       "    </tr>\n",
       "    <tr>\n",
       "      <th>4</th>\n",
       "      <td>1.0</td>\n",
       "    </tr>\n",
       "    <tr>\n",
       "      <th>...</th>\n",
       "      <td>...</td>\n",
       "    </tr>\n",
       "    <tr>\n",
       "      <th>210</th>\n",
       "      <td>3.0</td>\n",
       "    </tr>\n",
       "    <tr>\n",
       "      <th>211</th>\n",
       "      <td>3.0</td>\n",
       "    </tr>\n",
       "    <tr>\n",
       "      <th>212</th>\n",
       "      <td>1.0</td>\n",
       "    </tr>\n",
       "    <tr>\n",
       "      <th>213</th>\n",
       "      <td>3.0</td>\n",
       "    </tr>\n",
       "    <tr>\n",
       "      <th>214</th>\n",
       "      <td>3.0</td>\n",
       "    </tr>\n",
       "  </tbody>\n",
       "</table>\n",
       "<p>215 rows × 1 columns</p>\n",
       "</div>"
      ],
      "text/plain": [
       "     target\n",
       "0       1.0\n",
       "1       1.0\n",
       "2       1.0\n",
       "3       1.0\n",
       "4       1.0\n",
       "..      ...\n",
       "210     3.0\n",
       "211     3.0\n",
       "212     1.0\n",
       "213     3.0\n",
       "214     3.0\n",
       "\n",
       "[215 rows x 1 columns]"
      ]
     },
     "execution_count": 43,
     "metadata": {},
     "output_type": "execute_result"
    }
   ],
   "source": [
    "y"
   ]
  },
  {
   "cell_type": "code",
   "execution_count": 44,
   "id": "a9dfb27e",
   "metadata": {},
   "outputs": [],
   "source": [
    "x = df_final.drop('target', axis=1)"
   ]
  },
  {
   "cell_type": "code",
   "execution_count": 45,
   "id": "6d4893f6",
   "metadata": {},
   "outputs": [],
   "source": [
    "from sklearn.ensemble import RandomForestClassifier"
   ]
  },
  {
   "cell_type": "code",
   "execution_count": 46,
   "id": "f7e7f0f5",
   "metadata": {},
   "outputs": [],
   "source": [
    "from sklearn.model_selection import train_test_split"
   ]
  },
  {
   "cell_type": "code",
   "execution_count": 47,
   "id": "ea95a61b",
   "metadata": {},
   "outputs": [],
   "source": [
    "x_train, x_test, y_train, y_test = train_test_split(x, y, test_size = 0.2)"
   ]
  },
  {
   "cell_type": "code",
   "execution_count": 48,
   "id": "95b8f1f3",
   "metadata": {},
   "outputs": [],
   "source": [
    "model = RandomForestClassifier(random_state = 5, max_depth = 9, n_estimators = 100)"
   ]
  },
  {
   "cell_type": "code",
   "execution_count": 49,
   "id": "5187c030",
   "metadata": {},
   "outputs": [
    {
     "name": "stderr",
     "output_type": "stream",
     "text": [
      "C:\\Users\\mmandelman\\AppData\\Local\\Temp\\ipykernel_14116\\940050797.py:1: DataConversionWarning: A column-vector y was passed when a 1d array was expected. Please change the shape of y to (n_samples,), for example using ravel().\n",
      "  model.fit(x_train, y_train)\n"
     ]
    },
    {
     "data": {
      "text/html": [
       "<style>#sk-container-id-1 {color: black;background-color: white;}#sk-container-id-1 pre{padding: 0;}#sk-container-id-1 div.sk-toggleable {background-color: white;}#sk-container-id-1 label.sk-toggleable__label {cursor: pointer;display: block;width: 100%;margin-bottom: 0;padding: 0.3em;box-sizing: border-box;text-align: center;}#sk-container-id-1 label.sk-toggleable__label-arrow:before {content: \"▸\";float: left;margin-right: 0.25em;color: #696969;}#sk-container-id-1 label.sk-toggleable__label-arrow:hover:before {color: black;}#sk-container-id-1 div.sk-estimator:hover label.sk-toggleable__label-arrow:before {color: black;}#sk-container-id-1 div.sk-toggleable__content {max-height: 0;max-width: 0;overflow: hidden;text-align: left;background-color: #f0f8ff;}#sk-container-id-1 div.sk-toggleable__content pre {margin: 0.2em;color: black;border-radius: 0.25em;background-color: #f0f8ff;}#sk-container-id-1 input.sk-toggleable__control:checked~div.sk-toggleable__content {max-height: 200px;max-width: 100%;overflow: auto;}#sk-container-id-1 input.sk-toggleable__control:checked~label.sk-toggleable__label-arrow:before {content: \"▾\";}#sk-container-id-1 div.sk-estimator input.sk-toggleable__control:checked~label.sk-toggleable__label {background-color: #d4ebff;}#sk-container-id-1 div.sk-label input.sk-toggleable__control:checked~label.sk-toggleable__label {background-color: #d4ebff;}#sk-container-id-1 input.sk-hidden--visually {border: 0;clip: rect(1px 1px 1px 1px);clip: rect(1px, 1px, 1px, 1px);height: 1px;margin: -1px;overflow: hidden;padding: 0;position: absolute;width: 1px;}#sk-container-id-1 div.sk-estimator {font-family: monospace;background-color: #f0f8ff;border: 1px dotted black;border-radius: 0.25em;box-sizing: border-box;margin-bottom: 0.5em;}#sk-container-id-1 div.sk-estimator:hover {background-color: #d4ebff;}#sk-container-id-1 div.sk-parallel-item::after {content: \"\";width: 100%;border-bottom: 1px solid gray;flex-grow: 1;}#sk-container-id-1 div.sk-label:hover label.sk-toggleable__label {background-color: #d4ebff;}#sk-container-id-1 div.sk-serial::before {content: \"\";position: absolute;border-left: 1px solid gray;box-sizing: border-box;top: 0;bottom: 0;left: 50%;z-index: 0;}#sk-container-id-1 div.sk-serial {display: flex;flex-direction: column;align-items: center;background-color: white;padding-right: 0.2em;padding-left: 0.2em;position: relative;}#sk-container-id-1 div.sk-item {position: relative;z-index: 1;}#sk-container-id-1 div.sk-parallel {display: flex;align-items: stretch;justify-content: center;background-color: white;position: relative;}#sk-container-id-1 div.sk-item::before, #sk-container-id-1 div.sk-parallel-item::before {content: \"\";position: absolute;border-left: 1px solid gray;box-sizing: border-box;top: 0;bottom: 0;left: 50%;z-index: -1;}#sk-container-id-1 div.sk-parallel-item {display: flex;flex-direction: column;z-index: 1;position: relative;background-color: white;}#sk-container-id-1 div.sk-parallel-item:first-child::after {align-self: flex-end;width: 50%;}#sk-container-id-1 div.sk-parallel-item:last-child::after {align-self: flex-start;width: 50%;}#sk-container-id-1 div.sk-parallel-item:only-child::after {width: 0;}#sk-container-id-1 div.sk-dashed-wrapped {border: 1px dashed gray;margin: 0 0.4em 0.5em 0.4em;box-sizing: border-box;padding-bottom: 0.4em;background-color: white;}#sk-container-id-1 div.sk-label label {font-family: monospace;font-weight: bold;display: inline-block;line-height: 1.2em;}#sk-container-id-1 div.sk-label-container {text-align: center;}#sk-container-id-1 div.sk-container {/* jupyter's `normalize.less` sets `[hidden] { display: none; }` but bootstrap.min.css set `[hidden] { display: none !important; }` so we also need the `!important` here to be able to override the default hidden behavior on the sphinx rendered scikit-learn.org. See: https://github.com/scikit-learn/scikit-learn/issues/21755 */display: inline-block !important;position: relative;}#sk-container-id-1 div.sk-text-repr-fallback {display: none;}</style><div id=\"sk-container-id-1\" class=\"sk-top-container\"><div class=\"sk-text-repr-fallback\"><pre>RandomForestClassifier(max_depth=9, random_state=5)</pre><b>In a Jupyter environment, please rerun this cell to show the HTML representation or trust the notebook. <br />On GitHub, the HTML representation is unable to render, please try loading this page with nbviewer.org.</b></div><div class=\"sk-container\" hidden><div class=\"sk-item\"><div class=\"sk-estimator sk-toggleable\"><input class=\"sk-toggleable__control sk-hidden--visually\" id=\"sk-estimator-id-1\" type=\"checkbox\" checked><label for=\"sk-estimator-id-1\" class=\"sk-toggleable__label sk-toggleable__label-arrow\">RandomForestClassifier</label><div class=\"sk-toggleable__content\"><pre>RandomForestClassifier(max_depth=9, random_state=5)</pre></div></div></div></div></div>"
      ],
      "text/plain": [
       "RandomForestClassifier(max_depth=9, random_state=5)"
      ]
     },
     "execution_count": 49,
     "metadata": {},
     "output_type": "execute_result"
    }
   ],
   "source": [
    "model.fit(x_train, y_train)"
   ]
  },
  {
   "cell_type": "code",
   "execution_count": 50,
   "id": "3971b18f",
   "metadata": {},
   "outputs": [],
   "source": [
    "## predicciones"
   ]
  },
  {
   "cell_type": "code",
   "execution_count": 51,
   "id": "844a1a90",
   "metadata": {},
   "outputs": [
    {
     "data": {
      "text/plain": [
       "array([1., 3., 3., 3., 3., 2., 3., 3., 1., 2., 1., 1., 3., 1., 2., 3., 3.,\n",
       "       3., 2., 2., 1., 3., 3., 2., 3., 3., 1., 1., 3., 1., 1., 1., 3., 1.,\n",
       "       1., 1., 3., 3., 1., 3., 1., 1., 2.])"
      ]
     },
     "execution_count": 51,
     "metadata": {},
     "output_type": "execute_result"
    }
   ],
   "source": [
    "model.predict(x_test)"
   ]
  },
  {
   "cell_type": "code",
   "execution_count": 52,
   "id": "b4d4c51a",
   "metadata": {},
   "outputs": [],
   "source": [
    "y_test_pred = pd.DataFrame(model.predict(x_test), index = y_test.index, columns =['predicciones'])"
   ]
  },
  {
   "cell_type": "code",
   "execution_count": 53,
   "id": "345b3005",
   "metadata": {},
   "outputs": [],
   "source": [
    "pred = pd.concat([y_test, y_test_pred], axis = 1)"
   ]
  },
  {
   "cell_type": "code",
   "execution_count": 54,
   "id": "74ccc3eb",
   "metadata": {},
   "outputs": [],
   "source": [
    "pred['Exito'] = (pred['target'] == pred['predicciones']).astype(int)"
   ]
  },
  {
   "cell_type": "code",
   "execution_count": 55,
   "id": "18f66df4",
   "metadata": {},
   "outputs": [
    {
     "data": {
      "text/plain": [
       "0.5581395348837209"
      ]
     },
     "execution_count": 55,
     "metadata": {},
     "output_type": "execute_result"
    }
   ],
   "source": [
    "pred['Exito'].mean()"
   ]
  },
  {
   "cell_type": "code",
   "execution_count": 56,
   "id": "b08fe7a6",
   "metadata": {},
   "outputs": [],
   "source": [
    "## Predicciones Euro"
   ]
  },
  {
   "cell_type": "code",
   "execution_count": null,
   "id": "2603a0ae",
   "metadata": {},
   "outputs": [],
   "source": []
  },
  {
   "cell_type": "code",
   "execution_count": 57,
   "id": "c9de3162",
   "metadata": {},
   "outputs": [],
   "source": [
    "## variables_finales = ['Puntos_home', 'Ranking_home', 'Valor total_home', 'Puntos_away','Ranking_away', 'Valor total_away', 'rank_dif']"
   ]
  },
  {
   "cell_type": "code",
   "execution_count": null,
   "id": "c029008f",
   "metadata": {},
   "outputs": [],
   "source": []
  },
  {
   "cell_type": "code",
   "execution_count": 58,
   "id": "02c706a7",
   "metadata": {},
   "outputs": [],
   "source": [
    "## GRUPO A: Alemania, Escocia, Suiza, Hungría"
   ]
  },
  {
   "cell_type": "code",
   "execution_count": 59,
   "id": "120ff7cc",
   "metadata": {},
   "outputs": [
    {
     "data": {
      "text/plain": [
       "array([[0.39762283, 0.28649298, 0.31588419]])"
      ]
     },
     "execution_count": 59,
     "metadata": {},
     "output_type": "execute_result"
    }
   ],
   "source": [
    "game_Alemania_Escocia = [1644, 16, 898, 1497, 39, 214, -23]\n",
    "\n",
    "from itertools import repeat\n",
    "game_Alemania_Escocia=game_Alemania_Escocia + list(repeat(0,107))\n",
    "\n",
    "euro_pred = pd.DataFrame ([game_Alemania_Escocia], columns = x_test.columns)\n",
    "\n",
    "euro_pred['_home_Alemania'] = 1\n",
    "\n",
    "euro_pred['_away_Escocia'] = 1\n",
    "\n",
    "model.predict_proba(euro_pred)"
   ]
  },
  {
   "cell_type": "code",
   "execution_count": 60,
   "id": "62fab47d",
   "metadata": {},
   "outputs": [
    {
     "data": {
      "text/plain": [
       "array([[0.43064417, 0.17929959, 0.39005624]])"
      ]
     },
     "execution_count": 60,
     "metadata": {},
     "output_type": "execute_result"
    }
   ],
   "source": [
    "game_Hungria_Suiza = [1532, 26, 165, 1616, 19, 302, 7]\n",
    "\n",
    "from itertools import repeat\n",
    "game_Hungria_Suiza=game_Hungria_Suiza + list(repeat(0,107))\n",
    "\n",
    "euro_pred = pd.DataFrame ([game_Hungria_Suiza], columns = x_test.columns)\n",
    "\n",
    "euro_pred['_home_Hungría'] = 1\n",
    "\n",
    "euro_pred['_away_Suiza'] = 1\n",
    "\n",
    "model.predict_proba(euro_pred)"
   ]
  },
  {
   "cell_type": "code",
   "execution_count": 61,
   "id": "8162d8b1",
   "metadata": {},
   "outputs": [
    {
     "data": {
      "text/plain": [
       "array([[0.36640152, 0.2490135 , 0.38458498]])"
      ]
     },
     "execution_count": 61,
     "metadata": {},
     "output_type": "execute_result"
    }
   ],
   "source": [
    "game_Escocia_Suiza = [1497, 39, 214, 1616, 19, 302, 20]\n",
    "\n",
    "from itertools import repeat\n",
    "game_Escocia_Suiza=game_Escocia_Suiza + list(repeat(0,107))\n",
    "\n",
    "euro_pred = pd.DataFrame ([game_Escocia_Suiza], columns = x_test.columns)\n",
    "\n",
    "euro_pred['_home_Escocia'] = 1\n",
    "\n",
    "euro_pred['_away_Suiza'] = 1\n",
    "\n",
    "model.predict_proba(euro_pred)"
   ]
  },
  {
   "cell_type": "code",
   "execution_count": 62,
   "id": "b114a73d",
   "metadata": {},
   "outputs": [
    {
     "data": {
      "text/plain": [
       "array([[0.34212704, 0.43030889, 0.22756407]])"
      ]
     },
     "execution_count": 62,
     "metadata": {},
     "output_type": "execute_result"
    }
   ],
   "source": [
    "game_Alemania_Hungria = [1644, 16, 898, 1532, 26, 165, -10]\n",
    "\n",
    "from itertools import repeat\n",
    "game_Alemania_Hungria=game_Alemania_Hungria + list(repeat(0,107))\n",
    "\n",
    "euro_pred = pd.DataFrame ([game_Alemania_Hungria], columns = x_test.columns)\n",
    "\n",
    "euro_pred['_home_Alemania'] = 1\n",
    "\n",
    "euro_pred['_away_Hungría'] = 1\n",
    "\n",
    "model.predict_proba(euro_pred)"
   ]
  },
  {
   "cell_type": "code",
   "execution_count": 63,
   "id": "121afb02",
   "metadata": {},
   "outputs": [
    {
     "data": {
      "text/plain": [
       "array([[0.19146418, 0.24590958, 0.56262623]])"
      ]
     },
     "execution_count": 63,
     "metadata": {},
     "output_type": "execute_result"
    }
   ],
   "source": [
    "game_Suiza_Alemania = [1532, 26, 165, 1644, 16, 898, 10]\n",
    "\n",
    "from itertools import repeat\n",
    "game_Suiza_Alemania=game_Suiza_Alemania + list(repeat(0,107))\n",
    "\n",
    "euro_pred = pd.DataFrame ([game_Suiza_Alemania], columns = x_test.columns)\n",
    "\n",
    "euro_pred['_home_Suiza'] = 1\n",
    "\n",
    "euro_pred['_away_Alemania'] = 1\n",
    "\n",
    "model.predict_proba(euro_pred)"
   ]
  },
  {
   "cell_type": "code",
   "execution_count": 64,
   "id": "8069e9bd",
   "metadata": {},
   "outputs": [
    {
     "data": {
      "text/plain": [
       "array([[0.34486268, 0.41603267, 0.23910465]])"
      ]
     },
     "execution_count": 64,
     "metadata": {},
     "output_type": "execute_result"
    }
   ],
   "source": [
    "game_Escocia_Hungria = [1497, 39, 214, 1532, 26, 165, 13]\n",
    "\n",
    "from itertools import repeat\n",
    "game_Escocia_Hungria=game_Escocia_Hungria + list(repeat(0,107))\n",
    "\n",
    "euro_pred = pd.DataFrame ([game_Escocia_Hungria], columns = x_test.columns)\n",
    "\n",
    "euro_pred['_home_Escocia'] = 1\n",
    "\n",
    "euro_pred['_away_Hungría'] = 1\n",
    "\n",
    "model.predict_proba(euro_pred)"
   ]
  },
  {
   "cell_type": "code",
   "execution_count": 65,
   "id": "6bafeaf7",
   "metadata": {},
   "outputs": [],
   "source": [
    "##CLASIFICADOS: 1- Alemania, 2- Suiza"
   ]
  },
  {
   "cell_type": "code",
   "execution_count": 66,
   "id": "d95237e4",
   "metadata": {},
   "outputs": [],
   "source": [
    "## GRUPO B: España, Croacia, Italia, Albania"
   ]
  },
  {
   "cell_type": "code",
   "execution_count": 67,
   "id": "7e1cc912",
   "metadata": {},
   "outputs": [
    {
     "data": {
      "text/plain": [
       "array([[0.61713377, 0.08029154, 0.30257469]])"
      ]
     },
     "execution_count": 67,
     "metadata": {},
     "output_type": "execute_result"
    }
   ],
   "source": [
    "game_España_Croacia = [1728, 8, 1000, 1721, 10, 332, -2]\n",
    "\n",
    "from itertools import repeat\n",
    "game_España_Croacia=game_España_Croacia + list(repeat(0,107))\n",
    "\n",
    "euro_pred = pd.DataFrame ([game_España_Croacia], columns = x_test.columns)\n",
    "\n",
    "euro_pred['_home_España'] = 1\n",
    "\n",
    "euro_pred['_away_Croacia'] = 1\n",
    "\n",
    "model.predict_proba(euro_pred)"
   ]
  },
  {
   "cell_type": "code",
   "execution_count": 68,
   "id": "7053f404",
   "metadata": {},
   "outputs": [
    {
     "data": {
      "text/plain": [
       "array([[0.63430344, 0.07158162, 0.29411494]])"
      ]
     },
     "execution_count": 68,
     "metadata": {},
     "output_type": "execute_result"
    }
   ],
   "source": [
    "game_España_Italia = [1728, 8, 1000, 1725, 9, 754, -1]\n",
    "\n",
    "from itertools import repeat\n",
    "game_España_Italia=game_España_Italia + list(repeat(0,107))\n",
    "\n",
    "euro_pred = pd.DataFrame ([game_España_Italia], columns = x_test.columns)\n",
    "\n",
    "euro_pred['_home_España'] = 1\n",
    "\n",
    "euro_pred['_away_Italia'] = 1\n",
    "\n",
    "model.predict_proba(euro_pred)"
   ]
  },
  {
   "cell_type": "code",
   "execution_count": 69,
   "id": "18defd62",
   "metadata": {},
   "outputs": [
    {
     "data": {
      "text/plain": [
       "array([[0.69382107, 0.2300635 , 0.07611543]])"
      ]
     },
     "execution_count": 69,
     "metadata": {},
     "output_type": "execute_result"
    }
   ],
   "source": [
    "game_Croacia_Albania = [1721, 10, 332, 1375, 66, 111, -56]\n",
    "\n",
    "from itertools import repeat\n",
    "game_Croacia_Albania=game_Croacia_Albania + list(repeat(0,107))\n",
    "\n",
    "euro_pred = pd.DataFrame ([game_Croacia_Albania], columns = x_test.columns)\n",
    "\n",
    "euro_pred['_home_Croacia'] = 1\n",
    "\n",
    "euro_pred['_away_Albania'] = 1\n",
    "\n",
    "model.predict_proba(euro_pred)"
   ]
  },
  {
   "cell_type": "code",
   "execution_count": 70,
   "id": "740a8f43",
   "metadata": {},
   "outputs": [
    {
     "data": {
      "text/plain": [
       "array([[0.36447143, 0.18720791, 0.44832066]])"
      ]
     },
     "execution_count": 70,
     "metadata": {},
     "output_type": "execute_result"
    }
   ],
   "source": [
    "game_Croacia_Italia = [1721, 10, 332, 1725, 9, 754, 1]\n",
    "\n",
    "from itertools import repeat\n",
    "game_Croacia_Italia=game_Croacia_Italia + list(repeat(0,107))\n",
    "\n",
    "euro_pred = pd.DataFrame ([game_Croacia_Italia], columns = x_test.columns)\n",
    "\n",
    "euro_pred['_home_Croacia'] = 1\n",
    "\n",
    "euro_pred['_away_Italia'] = 1\n",
    "\n",
    "model.predict_proba(euro_pred)"
   ]
  },
  {
   "cell_type": "code",
   "execution_count": 71,
   "id": "f79971a7",
   "metadata": {},
   "outputs": [
    {
     "data": {
      "text/plain": [
       "array([[0.22892456, 0.13300574, 0.6380697 ]])"
      ]
     },
     "execution_count": 71,
     "metadata": {},
     "output_type": "execute_result"
    }
   ],
   "source": [
    "game_Albania_España = [ 1375, 66, 111, 1728, 8, 1000, 58]\n",
    "\n",
    "from itertools import repeat\n",
    "game_Albania_España=game_Albania_España + list(repeat(0,107))\n",
    "\n",
    "euro_pred = pd.DataFrame ([game_Albania_España], columns = x_test.columns)\n",
    "\n",
    "euro_pred['_home_Albania'] = 1\n",
    "\n",
    "euro_pred['_away_España'] = 1\n",
    "\n",
    "model.predict_proba(euro_pred)"
   ]
  },
  {
   "cell_type": "code",
   "execution_count": 72,
   "id": "2e4849ac",
   "metadata": {},
   "outputs": [
    {
     "data": {
      "text/plain": [
       "array([[0.76717104, 0.14269984, 0.09012913]])"
      ]
     },
     "execution_count": 72,
     "metadata": {},
     "output_type": "execute_result"
    }
   ],
   "source": [
    "game_Italia_Albania = [1725, 9, 754, 1375, 66, 111, -57]\n",
    "\n",
    "from itertools import repeat\n",
    "game_Italia_Albania=game_Italia_Albania + list(repeat(0,107))\n",
    "\n",
    "euro_pred = pd.DataFrame ([game_Italia_Albania], columns = x_test.columns)\n",
    "\n",
    "euro_pred['_home_Italia'] = 1\n",
    "\n",
    "euro_pred['_away_Albania'] = 1\n",
    "\n",
    "model.predict_proba(euro_pred)"
   ]
  },
  {
   "cell_type": "code",
   "execution_count": 73,
   "id": "9d951f9e",
   "metadata": {},
   "outputs": [],
   "source": [
    "##CLASIFICADOS: 1- Esp, 2- Ita"
   ]
  },
  {
   "cell_type": "code",
   "execution_count": 74,
   "id": "0148c791",
   "metadata": {},
   "outputs": [],
   "source": [
    "## GRUPO C: Eslovenia, Dinamarca, Serbia, Inglaterra"
   ]
  },
  {
   "cell_type": "code",
   "execution_count": 75,
   "id": "691f3338",
   "metadata": {},
   "outputs": [
    {
     "data": {
      "text/plain": [
       "array([[0.22308861, 0.38384011, 0.39307128]])"
      ]
     },
     "execution_count": 75,
     "metadata": {},
     "output_type": "execute_result"
    }
   ],
   "source": [
    "game_Eslovenia_Dinamarca = [1428, 57, 149, 1603, 21, 420, 36]\n",
    "\n",
    "from itertools import repeat\n",
    "game_Eslovenia_Dinamarca=game_Eslovenia_Dinamarca + list(repeat(0,107))\n",
    "\n",
    "euro_pred = pd.DataFrame ([game_Eslovenia_Dinamarca], columns = x_test.columns)\n",
    "\n",
    "euro_pred['_home_Eslovenia'] = 1\n",
    "\n",
    "euro_pred['_away_Dinamarca'] = 1\n",
    "\n",
    "model.predict_proba(euro_pred)"
   ]
  },
  {
   "cell_type": "code",
   "execution_count": 76,
   "id": "ea4a255d",
   "metadata": {},
   "outputs": [
    {
     "data": {
      "text/plain": [
       "array([[0.09016082, 0.39998846, 0.50985072]])"
      ]
     },
     "execution_count": 76,
     "metadata": {},
     "output_type": "execute_result"
    }
   ],
   "source": [
    "game_Serbia_Inglaterra = [1514, 33, 318,1795, 4, 1700, 29]\n",
    "\n",
    "from itertools import repeat\n",
    "game_Serbia_Inglaterra=game_Serbia_Inglaterra + list(repeat(0,107))\n",
    "\n",
    "euro_pred = pd.DataFrame ([game_Serbia_Inglaterra], columns = x_test.columns)\n",
    "\n",
    "euro_pred['_home_Serbia'] = 1\n",
    "\n",
    "euro_pred['_away_Inglaterra'] = 1\n",
    "\n",
    "model.predict_proba(euro_pred)"
   ]
  },
  {
   "cell_type": "code",
   "execution_count": 77,
   "id": "8211454b",
   "metadata": {},
   "outputs": [
    {
     "data": {
      "text/plain": [
       "array([[0.56139091, 0.28719982, 0.15140928]])"
      ]
     },
     "execution_count": 77,
     "metadata": {},
     "output_type": "execute_result"
    }
   ],
   "source": [
    "game_Eslovenia_Serbia = [1428, 57, 149, 1375, 66, 111, -9]\n",
    "\n",
    "from itertools import repeat\n",
    "game_Eslovenia_Serbia=game_Eslovenia_Serbia + list(repeat(0,107))\n",
    "\n",
    "euro_pred = pd.DataFrame ([game_Eslovenia_Serbia], columns = x_test.columns)\n",
    "\n",
    "euro_pred['_home_Eslovenia'] = 1\n",
    "\n",
    "euro_pred['_away_Serbia'] = 1\n",
    "\n",
    "model.predict_proba(euro_pred)"
   ]
  },
  {
   "cell_type": "code",
   "execution_count": 78,
   "id": "17d3e2e4",
   "metadata": {},
   "outputs": [
    {
     "data": {
      "text/plain": [
       "array([[0.1359084 , 0.37083655, 0.49325505]])"
      ]
     },
     "execution_count": 78,
     "metadata": {},
     "output_type": "execute_result"
    }
   ],
   "source": [
    "game_Dinamarca_Inglaterra = [1603, 21, 420, 1795, 4, 1700, 17]\n",
    "\n",
    "from itertools import repeat\n",
    "game_Dinamarca_Inglaterra=game_Dinamarca_Inglaterra + list(repeat(0,107))\n",
    "\n",
    "euro_pred = pd.DataFrame ([game_Dinamarca_Inglaterra], columns = x_test.columns)\n",
    "\n",
    "euro_pred['_home_Dinamarca'] = 1\n",
    "\n",
    "euro_pred['_away_Inglaterra'] = 1\n",
    "\n",
    "model.predict_proba(euro_pred)"
   ]
  },
  {
   "cell_type": "code",
   "execution_count": 79,
   "id": "d1385616",
   "metadata": {},
   "outputs": [
    {
     "data": {
      "text/plain": [
       "array([[0.67895333, 0.21902534, 0.10202133]])"
      ]
     },
     "execution_count": 79,
     "metadata": {},
     "output_type": "execute_result"
    }
   ],
   "source": [
    "game_Dinamarca_Serbia = [1603, 21, 420, 1375, 66, 111, -15]\n",
    "\n",
    "from itertools import repeat\n",
    "game_Dinamarca_Serbia=game_Dinamarca_Serbia + list(repeat(0,107))\n",
    "\n",
    "euro_pred = pd.DataFrame ([game_Dinamarca_Serbia], columns = x_test.columns)\n",
    "\n",
    "euro_pred['_home_Dinamarca'] = 1\n",
    "\n",
    "euro_pred['_away_Serbia'] = 1\n",
    "\n",
    "model.predict_proba(euro_pred)"
   ]
  },
  {
   "cell_type": "code",
   "execution_count": 80,
   "id": "25b568a3",
   "metadata": {},
   "outputs": [
    {
     "data": {
      "text/plain": [
       "array([[0.58898247, 0.17567214, 0.23534539]])"
      ]
     },
     "execution_count": 80,
     "metadata": {},
     "output_type": "execute_result"
    }
   ],
   "source": [
    "game_Inglaterra_Eslovenia = [1795, 4, 1700, 1428, 57, 149, 53]\n",
    "\n",
    "from itertools import repeat\n",
    "game_Inglaterra_Eslovenia=game_Inglaterra_Eslovenia + list(repeat(0,107))\n",
    "\n",
    "euro_pred = pd.DataFrame ([game_Inglaterra_Eslovenia], columns = x_test.columns)\n",
    "\n",
    "euro_pred['_home_Inglaterra'] = 1\n",
    "\n",
    "euro_pred['_away_Eslovenia'] = 1\n",
    "\n",
    "model.predict_proba(euro_pred)"
   ]
  },
  {
   "cell_type": "code",
   "execution_count": 81,
   "id": "688afae3",
   "metadata": {},
   "outputs": [],
   "source": [
    "##CLASIFICADOS: 1- Ing, 2- Din"
   ]
  },
  {
   "cell_type": "code",
   "execution_count": 82,
   "id": "1f23d4ed",
   "metadata": {},
   "outputs": [],
   "source": [
    "## GRUPO D: Polonia, Países Bajos, Austria y Francia."
   ]
  },
  {
   "cell_type": "code",
   "execution_count": 83,
   "id": "50a2217d",
   "metadata": {},
   "outputs": [
    {
     "data": {
      "text/plain": [
       "array([[0.1529229 , 0.13267026, 0.71440684]])"
      ]
     },
     "execution_count": 83,
     "metadata": {},
     "output_type": "execute_result"
    }
   ],
   "source": [
    "game_Polonia_Paises = [1531, 28, 218, 1742, 7, 835, 21]\n",
    "\n",
    "from itertools import repeat\n",
    "game_Polonia_Paises=game_Polonia_Paises + list(repeat(0,107))\n",
    "\n",
    "euro_pred = pd.DataFrame ([game_Polonia_Paises], columns = x_test.columns)\n",
    "\n",
    "euro_pred['_home_Polonia'] = 1\n",
    "\n",
    "euro_pred['_away_Países Bajos'] = 1\n",
    "\n",
    "model.predict_proba(euro_pred)"
   ]
  },
  {
   "cell_type": "code",
   "execution_count": 84,
   "id": "ee3b577b",
   "metadata": {},
   "outputs": [
    {
     "data": {
      "text/plain": [
       "array([[0.13037099, 0.30469092, 0.56493809]])"
      ]
     },
     "execution_count": 84,
     "metadata": {},
     "output_type": "execute_result"
    }
   ],
   "source": [
    "game_Austria_Francia = [1555, 25, 245, 1841, 2, 1200, 23]\n",
    "\n",
    "from itertools import repeat\n",
    "game_Austria_Francia=game_Austria_Francia + list(repeat(0,107))\n",
    "\n",
    "euro_pred = pd.DataFrame ([game_Austria_Francia], columns = x_test.columns)\n",
    "\n",
    "euro_pred['_home_Austria'] = 1\n",
    "\n",
    "euro_pred['_away_Francia'] = 1\n",
    "\n",
    "model.predict_proba(euro_pred)"
   ]
  },
  {
   "cell_type": "code",
   "execution_count": 85,
   "id": "9bfa5eb0",
   "metadata": {},
   "outputs": [
    {
     "data": {
      "text/plain": [
       "array([[0.16072339, 0.16014321, 0.67913341]])"
      ]
     },
     "execution_count": 85,
     "metadata": {},
     "output_type": "execute_result"
    }
   ],
   "source": [
    "game_Paises_Francia = [1742, 7, 835, 1841, 2, 1200, 5]\n",
    "\n",
    "from itertools import repeat\n",
    "game_Paises_Francia=game_Paises_Francia + list(repeat(0,107))\n",
    "\n",
    "euro_pred = pd.DataFrame ([game_Paises_Francia], columns = x_test.columns)\n",
    "\n",
    "euro_pred['_away_Países Bajos'] = 1\n",
    "\n",
    "euro_pred['_away_Francia'] = 1\n",
    "\n",
    "model.predict_proba(euro_pred)"
   ]
  },
  {
   "cell_type": "code",
   "execution_count": 86,
   "id": "206f5454",
   "metadata": {},
   "outputs": [
    {
     "data": {
      "text/plain": [
       "array([[0.27332678, 0.23725629, 0.48941692]])"
      ]
     },
     "execution_count": 86,
     "metadata": {},
     "output_type": "execute_result"
    }
   ],
   "source": [
    "game_Polonia_Austria = [1531, 28, 218, 1555, 25, 245, 3]\n",
    "\n",
    "from itertools import repeat\n",
    "game_Polonia_Austria=game_Polonia_Austria + list(repeat(0,107))\n",
    "\n",
    "euro_pred = pd.DataFrame ([game_Polonia_Austria], columns = x_test.columns)\n",
    "\n",
    "euro_pred['_home_Polonia'] = 1\n",
    "\n",
    "euro_pred['_away_Austria'] = 1\n",
    "\n",
    "model.predict_proba(euro_pred)"
   ]
  },
  {
   "cell_type": "code",
   "execution_count": 87,
   "id": "f0f10888",
   "metadata": {},
   "outputs": [
    {
     "data": {
      "text/plain": [
       "array([[0.6973833 , 0.21861839, 0.08399831]])"
      ]
     },
     "execution_count": 87,
     "metadata": {},
     "output_type": "execute_result"
    }
   ],
   "source": [
    "game_Francia_Polonia = [1841, 2, 1200, 1531, 28, 218, -26]\n",
    "\n",
    "from itertools import repeat\n",
    "game_Francia_Polonia=game_Francia_Polonia + list(repeat(0,107))\n",
    "\n",
    "euro_pred = pd.DataFrame ([game_Francia_Polonia], columns = x_test.columns)\n",
    "\n",
    "euro_pred['_home_Francia'] = 1\n",
    "\n",
    "euro_pred['_away_Polonia'] = 1\n",
    "\n",
    "model.predict_proba(euro_pred)"
   ]
  },
  {
   "cell_type": "code",
   "execution_count": 88,
   "id": "d26ac17e",
   "metadata": {},
   "outputs": [
    {
     "data": {
      "text/plain": [
       "array([[0.47079755, 0.3209995 , 0.20820296]])"
      ]
     },
     "execution_count": 88,
     "metadata": {},
     "output_type": "execute_result"
    }
   ],
   "source": [
    "game_Paises_Austria = [1742, 7, 835, 1555, 25, 245, -18]\n",
    "\n",
    "from itertools import repeat\n",
    "game_Paises_Austria=game_Paises_Austria + list(repeat(0,107))\n",
    "\n",
    "euro_pred = pd.DataFrame ([game_Paises_Austria], columns = x_test.columns)\n",
    "\n",
    "euro_pred['_away_Países Bajos'] = 1\n",
    "\n",
    "euro_pred['_away_Austria'] = 1\n",
    "\n",
    "model.predict_proba(euro_pred)"
   ]
  },
  {
   "cell_type": "code",
   "execution_count": 89,
   "id": "bedd0284",
   "metadata": {},
   "outputs": [],
   "source": [
    "##CLASIFICADOS: 1- Fra, 2- Países Bajos"
   ]
  },
  {
   "cell_type": "code",
   "execution_count": 90,
   "id": "327f2fda",
   "metadata": {},
   "outputs": [],
   "source": [
    "## GRUPO E: Bélgica, Eslovaquia, Rumania y Ucrania."
   ]
  },
  {
   "cell_type": "code",
   "execution_count": 91,
   "id": "2de3a6b8",
   "metadata": {},
   "outputs": [
    {
     "data": {
      "text/plain": [
       "array([[0.57400488, 0.34074723, 0.08524789]])"
      ]
     },
     "execution_count": 91,
     "metadata": {},
     "output_type": "execute_result"
    }
   ],
   "source": [
    "game_Bélgica_Eslovaquia = [1795, 3, 591, 1462, 48, 169, -45]\n",
    "\n",
    "from itertools import repeat\n",
    "game_Bélgica_Eslovaquia=game_Bélgica_Eslovaquia + list(repeat(0,107))\n",
    "\n",
    "euro_pred = pd.DataFrame ([game_Bélgica_Eslovaquia], columns = x_test.columns)\n",
    "\n",
    "euro_pred['_home_Bélgica'] = 1\n",
    "\n",
    "euro_pred['_away_Eslovaquia'] = 1\n",
    "\n",
    "model.predict_proba(euro_pred)"
   ]
  },
  {
   "cell_type": "code",
   "execution_count": 92,
   "id": "2bab0d9b",
   "metadata": {
    "scrolled": true
   },
   "outputs": [
    {
     "data": {
      "text/plain": [
       "array([[0.46587676, 0.20868538, 0.32543786]])"
      ]
     },
     "execution_count": 92,
     "metadata": {},
     "output_type": "execute_result"
    }
   ],
   "source": [
    "game_Rumania_Ucrania = [1468, 46, 91, 1569, 22, 345, 24]\n",
    "\n",
    "from itertools import repeat\n",
    "game_Rumania_Ucrania=game_Rumania_Ucrania + list(repeat(0,107))\n",
    "\n",
    "euro_pred = pd.DataFrame ([game_Rumania_Ucrania], columns = x_test.columns)\n",
    "\n",
    "euro_pred['_home_Rumania'] = 1\n",
    "\n",
    "euro_pred['_away_Ucrania'] = 1\n",
    "\n",
    "model.predict_proba(euro_pred)"
   ]
  },
  {
   "cell_type": "code",
   "execution_count": 93,
   "id": "b15110d2",
   "metadata": {},
   "outputs": [
    {
     "data": {
      "text/plain": [
       "array([[0.34781699, 0.2566204 , 0.39556262]])"
      ]
     },
     "execution_count": 93,
     "metadata": {},
     "output_type": "execute_result"
    }
   ],
   "source": [
    "game_Eslovaquia_Ucrania = [1462, 48, 169, 1569, 22, 345, 26]\n",
    "\n",
    "from itertools import repeat\n",
    "game_Eslovaquia_Ucrania=game_Eslovaquia_Ucrania + list(repeat(0,107))\n",
    "\n",
    "euro_pred = pd.DataFrame ([game_Eslovaquia_Ucrania], columns = x_test.columns)\n",
    "\n",
    "euro_pred['_home_Eslovaquia'] = 1\n",
    "\n",
    "euro_pred['_away_Ucrania'] = 1\n",
    "\n",
    "model.predict_proba(euro_pred)"
   ]
  },
  {
   "cell_type": "code",
   "execution_count": 94,
   "id": "8f72e7d6",
   "metadata": {},
   "outputs": [
    {
     "data": {
      "text/plain": [
       "array([[0.48014283, 0.44504843, 0.07480874]])"
      ]
     },
     "execution_count": 94,
     "metadata": {},
     "output_type": "execute_result"
    }
   ],
   "source": [
    "game_Bélgica_Rumania = [1795, 3, 591, 1468, 46, 91, -43]\n",
    "\n",
    "from itertools import repeat\n",
    "game_Bélgica_Rumania=game_Bélgica_Rumania + list(repeat(0,107))\n",
    "\n",
    "euro_pred = pd.DataFrame ([game_Bélgica_Rumania], columns = x_test.columns)\n",
    "\n",
    "euro_pred['_home_Bélgica'] = 1\n",
    "\n",
    "euro_pred['_away_Rumania'] = 1\n",
    "\n",
    "model.predict_proba(euro_pred)"
   ]
  },
  {
   "cell_type": "code",
   "execution_count": 95,
   "id": "69542e8b",
   "metadata": {},
   "outputs": [
    {
     "data": {
      "text/plain": [
       "array([[0.0593331 , 0.19515121, 0.74551569]])"
      ]
     },
     "execution_count": 95,
     "metadata": {},
     "output_type": "execute_result"
    }
   ],
   "source": [
    "game_Ucrania_Bélgica = [1569, 22, 345, 1795, 3, 591, 19]\n",
    "\n",
    "from itertools import repeat\n",
    "game_Ucrania_Bélgica=game_Ucrania_Bélgica + list(repeat(0,107))\n",
    "\n",
    "euro_pred = pd.DataFrame ([game_Ucrania_Bélgica], columns = x_test.columns)\n",
    "\n",
    "euro_pred['_home_Ucrania'] = 1\n",
    "\n",
    "euro_pred['_away_Bélgica'] = 1\n",
    "\n",
    "model.predict_proba(euro_pred)"
   ]
  },
  {
   "cell_type": "code",
   "execution_count": 96,
   "id": "080b6263",
   "metadata": {},
   "outputs": [
    {
     "data": {
      "text/plain": [
       "array([[0.44026792, 0.42387711, 0.13585497]])"
      ]
     },
     "execution_count": 96,
     "metadata": {},
     "output_type": "execute_result"
    }
   ],
   "source": [
    "game_Eslovaquia_Rumania = [1462, 48, 169, 1468, 46, 91, -43]\n",
    "\n",
    "from itertools import repeat\n",
    "game_Eslovaquia_Rumania=game_Eslovaquia_Rumania + list(repeat(0,107))\n",
    "\n",
    "euro_pred = pd.DataFrame ([game_Eslovaquia_Rumania], columns = x_test.columns)\n",
    "\n",
    "euro_pred['_home_Eslovaquia'] = 1\n",
    "\n",
    "euro_pred['_away_Rumania'] = 1\n",
    "\n",
    "model.predict_proba(euro_pred)"
   ]
  },
  {
   "cell_type": "code",
   "execution_count": 97,
   "id": "dadfbdef",
   "metadata": {},
   "outputs": [],
   "source": [
    "##CLASIFICADOS: 1- Bel, 2- Rum"
   ]
  },
  {
   "cell_type": "code",
   "execution_count": 98,
   "id": "5317d601",
   "metadata": {},
   "outputs": [],
   "source": [
    "## GRUPO F: Turquía, Georgia, Portugal y República Checa."
   ]
  },
  {
   "cell_type": "code",
   "execution_count": 99,
   "id": "6bc56091",
   "metadata": {},
   "outputs": [
    {
     "data": {
      "text/plain": [
       "array([[0.60721971, 0.31474122, 0.07803907]])"
      ]
     },
     "execution_count": 99,
     "metadata": {},
     "output_type": "execute_result"
    }
   ],
   "source": [
    "game_Turquía_Georgia = [1496, 40, 368, 1334, 75, 153, -35]\n",
    "\n",
    "from itertools import repeat\n",
    "game_Turquía_Georgia=game_Turquía_Georgia + list(repeat(0,107))\n",
    "\n",
    "euro_pred = pd.DataFrame ([game_Turquía_Georgia], columns = x_test.columns)\n",
    "\n",
    "euro_pred['_home_Turquía'] = 1\n",
    "\n",
    "euro_pred['_away_Georgia'] = 1\n",
    "\n",
    "model.predict_proba(euro_pred)"
   ]
  },
  {
   "cell_type": "code",
   "execution_count": 100,
   "id": "49a329c1",
   "metadata": {},
   "outputs": [
    {
     "data": {
      "text/plain": [
       "array([[0.67954601, 0.2458216 , 0.0746324 ]])"
      ]
     },
     "execution_count": 100,
     "metadata": {},
     "output_type": "execute_result"
    }
   ],
   "source": [
    "game_Portugal_RepúblicaCheca = [1748, 6, 1000, 1501, 36, 176, -30]\n",
    "\n",
    "from itertools import repeat\n",
    "game_Portugal_RepúblicaCheca=game_Portugal_RepúblicaCheca + list(repeat(0,107))\n",
    "\n",
    "euro_pred = pd.DataFrame ([game_Portugal_RepúblicaCheca], columns = x_test.columns)\n",
    "\n",
    "euro_pred['_home_Portugal'] = 1\n",
    "\n",
    "euro_pred['_away_República Checa'] = 1\n",
    "\n",
    "model.predict_proba(euro_pred)"
   ]
  },
  {
   "cell_type": "code",
   "execution_count": 101,
   "id": "760ea03f",
   "metadata": {},
   "outputs": [
    {
     "data": {
      "text/plain": [
       "array([[0.16401345, 0.56691156, 0.26907499]])"
      ]
     },
     "execution_count": 101,
     "metadata": {},
     "output_type": "execute_result"
    }
   ],
   "source": [
    "game_Georgia_RepúblicaCheca = [1334, 75, 153, 1501, 36, 176, 39]\n",
    "\n",
    "from itertools import repeat\n",
    "game_Georgia_RepúblicaCheca=game_Georgia_RepúblicaCheca + list(repeat(0,107))\n",
    "\n",
    "euro_pred = pd.DataFrame ([game_Georgia_RepúblicaCheca], columns = x_test.columns)\n",
    "\n",
    "euro_pred['_home_Georgia'] = 1\n",
    "\n",
    "euro_pred['_away_República Checa'] = 1\n",
    "\n",
    "model.predict_proba(euro_pred)"
   ]
  },
  {
   "cell_type": "code",
   "execution_count": 102,
   "id": "c65c634a",
   "metadata": {},
   "outputs": [
    {
     "data": {
      "text/plain": [
       "array([[0.08250179, 0.13542828, 0.78206992]])"
      ]
     },
     "execution_count": 102,
     "metadata": {},
     "output_type": "execute_result"
    }
   ],
   "source": [
    "game_Turquía_Portugal = [1496, 40, 368, 1748, 6, 1000, 34]\n",
    "\n",
    "from itertools import repeat\n",
    "game_Turquía_Portugal=game_Turquía_Portugal + list(repeat(0,107))\n",
    "\n",
    "euro_pred = pd.DataFrame ([game_Turquía_Portugal], columns = x_test.columns)\n",
    "\n",
    "euro_pred['_home_Turquía'] = 1\n",
    "\n",
    "euro_pred['_away_Portugal'] = 1\n",
    "\n",
    "model.predict_proba(euro_pred)"
   ]
  },
  {
   "cell_type": "code",
   "execution_count": 103,
   "id": "4998dd38",
   "metadata": {},
   "outputs": [
    {
     "data": {
      "text/plain": [
       "array([[0.04822879, 0.20724767, 0.74452354]])"
      ]
     },
     "execution_count": 103,
     "metadata": {},
     "output_type": "execute_result"
    }
   ],
   "source": [
    "game_Georgia_Portugal = [1334, 75, 153, 1748, 6, 1000, 69]\n",
    "\n",
    "from itertools import repeat\n",
    "game_Georgia_Portugal=game_Georgia_Portugal + list(repeat(0,107))\n",
    "\n",
    "euro_pred = pd.DataFrame ([game_Georgia_Portugal], columns = x_test.columns)\n",
    "\n",
    "euro_pred['_home_Georgia'] = 1\n",
    "\n",
    "euro_pred['_away_Portugal'] = 1\n",
    "\n",
    "model.predict_proba(euro_pred)"
   ]
  },
  {
   "cell_type": "code",
   "execution_count": 104,
   "id": "56d668ca",
   "metadata": {},
   "outputs": [
    {
     "data": {
      "text/plain": [
       "array([[0.4161748 , 0.30704293, 0.27678227]])"
      ]
     },
     "execution_count": 104,
     "metadata": {},
     "output_type": "execute_result"
    }
   ],
   "source": [
    "game_RepúblicaCheca_Turquía = [1501, 36, 176, 1496, 40, 368, -4]\n",
    "\n",
    "from itertools import repeat\n",
    "game_RepúblicaCheca_Turquía=game_RepúblicaCheca_Turquía + list(repeat(0,107))\n",
    "\n",
    "euro_pred = pd.DataFrame ([game_RepúblicaCheca_Turquía], columns = x_test.columns)\n",
    "\n",
    "euro_pred['_home_República Checa'] = 1\n",
    "\n",
    "euro_pred['_away_Turquía'] = 1\n",
    "\n",
    "model.predict_proba(euro_pred)"
   ]
  },
  {
   "cell_type": "code",
   "execution_count": 105,
   "id": "3e43c75d",
   "metadata": {},
   "outputs": [],
   "source": [
    "##CLASIFICADOS: 1- Port, 2- Turq"
   ]
  },
  {
   "cell_type": "code",
   "execution_count": 106,
   "id": "f837f7df",
   "metadata": {},
   "outputs": [],
   "source": [
    "##Plays OFFs:\n",
    "##\n",
    "\n",
    "\n",
    "##alemania- dina\n",
    "##españa - 3\n",
    "##\n",
    "##portugal-3\n",
    "##países bajos -rumania\n",
    "##\n",
    "##suiza - italia\n",
    "##Inglaterra -3\n",
    "##\n",
    "##belgica - 3\n",
    "##franc - turquia"
   ]
  },
  {
   "cell_type": "code",
   "execution_count": 107,
   "id": "9e3f7d4e",
   "metadata": {},
   "outputs": [
    {
     "data": {
      "text/plain": [
       "array([[0.33401546, 0.33490814, 0.3310764 ]])"
      ]
     },
     "execution_count": 107,
     "metadata": {},
     "output_type": "execute_result"
    }
   ],
   "source": [
    "game_Alemania_Dinamarca = [1644, 16, 898, 1603, 21, 420, -5]\n",
    "\n",
    "from itertools import repeat\n",
    "game_Alemania_Dinamarca=game_Alemania_Dinamarca + list(repeat(0,107))\n",
    "\n",
    "euro_pred = pd.DataFrame ([game_Alemania_Dinamarca], columns = x_test.columns)\n",
    "\n",
    "euro_pred['_home_Alemania'] = 1\n",
    "\n",
    "euro_pred['_away_Dinamarca'] = 1\n",
    "\n",
    "model.predict_proba(euro_pred)"
   ]
  },
  {
   "cell_type": "code",
   "execution_count": 108,
   "id": "4001005d",
   "metadata": {},
   "outputs": [
    {
     "data": {
      "text/plain": [
       "array([[0.63349317, 0.25913104, 0.10737579]])"
      ]
     },
     "execution_count": 108,
     "metadata": {},
     "output_type": "execute_result"
    }
   ],
   "source": [
    "game_PaísesBajos_rumania = [1742, 7, 835, 1468, 46, 91, -39]\n",
    "\n",
    "from itertools import repeat\n",
    "game_PaísesBajos_rumania=game_PaísesBajos_rumania + list(repeat(0,107))\n",
    "\n",
    "euro_pred = pd.DataFrame ([game_PaísesBajos_rumania], columns = x_test.columns)\n",
    "\n",
    "euro_pred['_home_Países Bajos'] = 1\n",
    "\n",
    "euro_pred['_away_Rumania'] = 1\n",
    "\n",
    "model.predict_proba(euro_pred)"
   ]
  },
  {
   "cell_type": "code",
   "execution_count": null,
   "id": "a1bce911",
   "metadata": {},
   "outputs": [],
   "source": []
  },
  {
   "cell_type": "code",
   "execution_count": 109,
   "id": "0d41d8f6",
   "metadata": {},
   "outputs": [
    {
     "data": {
      "text/plain": [
       "array([[0.21863363, 0.23288145, 0.54848492]])"
      ]
     },
     "execution_count": 109,
     "metadata": {},
     "output_type": "execute_result"
    }
   ],
   "source": [
    "game_Suiza_Italia = [1532, 26, 165, 1725, 9, 754, 17]\n",
    "\n",
    "from itertools import repeat\n",
    "game_Suiza_Italia=game_Suiza_Italia + list(repeat(0,107))\n",
    "\n",
    "euro_pred = pd.DataFrame ([game_Suiza_Italia], columns = x_test.columns)\n",
    "\n",
    "euro_pred['_home_Suiza'] = 1\n",
    "\n",
    "euro_pred['_away_Italia'] = 1\n",
    "\n",
    "model.predict_proba(euro_pred)"
   ]
  },
  {
   "cell_type": "code",
   "execution_count": 110,
   "id": "51e1f263",
   "metadata": {},
   "outputs": [
    {
     "data": {
      "text/plain": [
       "array([[0.64678729, 0.1260789 , 0.22713381]])"
      ]
     },
     "execution_count": 110,
     "metadata": {},
     "output_type": "execute_result"
    }
   ],
   "source": [
    "game_Francia_Turquía = [1841, 2, 1200, 1496, 40, 368, -38]\n",
    "\n",
    "from itertools import repeat\n",
    "game_Francia_Turquía=game_Francia_Turquía + list(repeat(0,107))\n",
    "\n",
    "euro_pred = pd.DataFrame ([game_Francia_Turquía], columns = x_test.columns)\n",
    "\n",
    "euro_pred['_home_Francia'] = 1\n",
    "\n",
    "euro_pred['_away_Turquía'] = 1\n",
    "\n",
    "model.predict_proba(euro_pred)"
   ]
  },
  {
   "cell_type": "code",
   "execution_count": 111,
   "id": "1f9e13a9",
   "metadata": {},
   "outputs": [],
   "source": [
    "##Cuartos de final"
   ]
  },
  {
   "cell_type": "code",
   "execution_count": null,
   "id": "949e60f4",
   "metadata": {},
   "outputs": [],
   "source": []
  },
  {
   "cell_type": "code",
   "execution_count": 112,
   "id": "7d447af6",
   "metadata": {},
   "outputs": [
    {
     "data": {
      "text/plain": [
       "array([[0.1256682 , 0.12941404, 0.74491776]])"
      ]
     },
     "execution_count": 112,
     "metadata": {},
     "output_type": "execute_result"
    }
   ],
   "source": [
    "\n",
    "game_Alemania_España = [1644, 16, 898, 1728, 8, 1000, 8]\n",
    "\n",
    "from itertools import repeat\n",
    "game_Alemania_España=game_Alemania_España + list(repeat(0,107))\n",
    "\n",
    "euro_pred = pd.DataFrame ([game_Alemania_España], columns = x_test.columns)\n",
    "\n",
    "euro_pred['_home_Alemania'] = 1\n",
    "\n",
    "euro_pred['_away_España'] = 1\n",
    "\n",
    "model.predict_proba(euro_pred)"
   ]
  },
  {
   "cell_type": "code",
   "execution_count": null,
   "id": "25a6f6b7",
   "metadata": {},
   "outputs": [],
   "source": []
  },
  {
   "cell_type": "code",
   "execution_count": 114,
   "id": "186f55a0",
   "metadata": {},
   "outputs": [
    {
     "data": {
      "text/plain": [
       "array([[0.27011777, 0.08366901, 0.64621322]])"
      ]
     },
     "execution_count": 114,
     "metadata": {},
     "output_type": "execute_result"
    }
   ],
   "source": [
    "\n",
    "game_PaísesBajos_Portugal = [1742, 7, 835, 1748, 6, 1000, 1]\n",
    "\n",
    "from itertools import repeat\n",
    "game_PaísesBajos_Portugal=game_PaísesBajos_Portugal + list(repeat(0,107))\n",
    "\n",
    "euro_pred = pd.DataFrame ([game_PaísesBajos_Portugal], columns = x_test.columns)\n",
    "\n",
    "euro_pred['_home_Países Bajos'] = 1\n",
    "\n",
    "euro_pred['_away_Portugal'] = 1\n",
    "\n",
    "model.predict_proba(euro_pred)"
   ]
  },
  {
   "cell_type": "code",
   "execution_count": 115,
   "id": "ee4507ae",
   "metadata": {},
   "outputs": [
    {
     "data": {
      "text/plain": [
       "array([[0.18008562, 0.20791317, 0.61200121]])"
      ]
     },
     "execution_count": 115,
     "metadata": {},
     "output_type": "execute_result"
    }
   ],
   "source": [
    "\n",
    "game_Italia_Inglaterra = [1725, 9, 754, 1795, 4, 1700, 5]\n",
    "\n",
    "from itertools import repeat\n",
    "game_Italia_Inglaterra=game_Italia_Inglaterra + list(repeat(0,107))\n",
    "\n",
    "euro_pred = pd.DataFrame ([game_Italia_Inglaterra], columns = x_test.columns)\n",
    "\n",
    "euro_pred['_home_Italia'] = 1\n",
    "\n",
    "euro_pred['_away_Inglaterra'] = 1\n",
    "\n",
    "model.predict_proba(euro_pred)"
   ]
  },
  {
   "cell_type": "code",
   "execution_count": 116,
   "id": "c680af49",
   "metadata": {},
   "outputs": [
    {
     "data": {
      "text/plain": [
       "array([[0.2152107 , 0.27699965, 0.50778965]])"
      ]
     },
     "execution_count": 116,
     "metadata": {},
     "output_type": "execute_result"
    }
   ],
   "source": [
    "game_Belgica_Francia = [1795, 3, 591, 1841, 2, 1200, 1]\n",
    "\n",
    "from itertools import repeat\n",
    "game_Belgica_Francia=game_Belgica_Francia + list(repeat(0,107))\n",
    "\n",
    "euro_pred = pd.DataFrame ([game_Belgica_Francia], columns = x_test.columns)\n",
    "\n",
    "euro_pred['_home_Bélgica'] = 1\n",
    "\n",
    "euro_pred['_away_Francia'] = 1\n",
    "\n",
    "model.predict_proba(euro_pred)"
   ]
  },
  {
   "cell_type": "code",
   "execution_count": 117,
   "id": "3f752d00",
   "metadata": {},
   "outputs": [],
   "source": [
    "##Semifinales España"
   ]
  },
  {
   "cell_type": "code",
   "execution_count": 119,
   "id": "3102a058",
   "metadata": {},
   "outputs": [
    {
     "data": {
      "text/plain": [
       "array([[0.26949207, 0.06195135, 0.66855659]])"
      ]
     },
     "execution_count": 119,
     "metadata": {},
     "output_type": "execute_result"
    }
   ],
   "source": [
    "game_Alemania_Portugal = [1728, 8, 1000, 1748, 6, 1000, 2]\n",
    "\n",
    "#SEMI-FINAL 1:\n",
    "\n",
    "from itertools import repeat\n",
    "game_Alemania_Portugal=game_Germany_Portugal + list(repeat(0,107))\n",
    "\n",
    "euro_pred = pd.DataFrame ([game_Germany_Portugal], columns = x_test.columns)\n",
    "\n",
    "euro_pred['_home_Alemania'] = 1\n",
    "\n",
    "euro_pred['_away_Portugal'] = 1\n",
    "\n",
    "model.predict_proba(euro_pred)"
   ]
  },
  {
   "cell_type": "code",
   "execution_count": 125,
   "id": "4048f7c9",
   "metadata": {},
   "outputs": [
    {
     "data": {
      "text/plain": [
       "array([[0.36978034, 0.12166542, 0.50855424]])"
      ]
     },
     "execution_count": 125,
     "metadata": {},
     "output_type": "execute_result"
    }
   ],
   "source": [
    "game_England_France = [1795, 4, 1700, 1841, 2, 1200, 2]\n",
    "\n",
    "#SEMI-FINAL 2:\n",
    "\n",
    "from itertools import repeat\n",
    "game_England_France=game_England_France + list(repeat(0,107))\n",
    "\n",
    "euro_pred = pd.DataFrame ([game_England_France], columns = x_test.columns)\n",
    "\n",
    "euro_pred['_home_Inglaterra'] = 1\n",
    "\n",
    "euro_pred['_away_Francia'] = 1\n",
    "\n",
    "model.predict_proba(euro_pred)"
   ]
  },
  {
   "cell_type": "code",
   "execution_count": 121,
   "id": "ae5b9821",
   "metadata": {},
   "outputs": [],
   "source": [
    "##Final"
   ]
  },
  {
   "cell_type": "code",
   "execution_count": 126,
   "id": "886b35ab",
   "metadata": {},
   "outputs": [
    {
     "data": {
      "text/plain": [
       "array([[0.265854  , 0.1279082 , 0.60623781]])"
      ]
     },
     "execution_count": 126,
     "metadata": {},
     "output_type": "execute_result"
    }
   ],
   "source": [
    "game_Portugal_Francia = [1748, 6, 1000, 1841, 2, 1200, 4]\n",
    "\n",
    "from itertools import repeat\n",
    "game_Portugal_Francia=game_Portugal_Francia + list(repeat(0,107))\n",
    "\n",
    "euro_pred = pd.DataFrame ([game_Portugal_Francia], columns = x_test.columns)\n",
    "\n",
    "euro_pred['_home_Portugal'] = 1\n",
    "\n",
    "euro_pred['_away_Francia'] = 1\n",
    "\n",
    "model.predict_proba(euro_pred)"
   ]
  },
  {
   "cell_type": "code",
   "execution_count": null,
   "id": "c8b4cb1c",
   "metadata": {},
   "outputs": [],
   "source": []
  }
 ],
 "metadata": {
  "kernelspec": {
   "display_name": "Python 3 (ipykernel)",
   "language": "python",
   "name": "python3"
  },
  "language_info": {
   "codemirror_mode": {
    "name": "ipython",
    "version": 3
   },
   "file_extension": ".py",
   "mimetype": "text/x-python",
   "name": "python",
   "nbconvert_exporter": "python",
   "pygments_lexer": "ipython3",
   "version": "3.11.3"
  }
 },
 "nbformat": 4,
 "nbformat_minor": 5
}
